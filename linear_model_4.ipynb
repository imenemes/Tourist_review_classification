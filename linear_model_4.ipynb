{
  "nbformat": 4,
  "nbformat_minor": 0,
  "metadata": {
    "colab": {
      "provenance": []
    },
    "kernelspec": {
      "name": "python3",
      "display_name": "Python 3"
    },
    "language_info": {
      "name": "python"
    }
  },
  "cells": [
    {
      "cell_type": "code",
      "source": [
        "import pandas as pd"
      ],
      "metadata": {
        "id": "zvQuBn82dDx7"
      },
      "execution_count": 1,
      "outputs": []
    },
    {
      "cell_type": "code",
      "source": [
        "from google.colab import drive\n",
        "drive.mount('/content/drive')"
      ],
      "metadata": {
        "id": "mCDFnjrGC46C",
        "colab": {
          "base_uri": "https://localhost:8080/"
        },
        "outputId": "207babe5-8aa5-40bc-dfb2-983e3f8c6442"
      },
      "execution_count": 2,
      "outputs": [
        {
          "output_type": "stream",
          "name": "stdout",
          "text": [
            "Mounted at /content/drive\n"
          ]
        }
      ]
    },
    {
      "cell_type": "code",
      "source": [
        "df= pd.read_pickle('/content/drive/MyDrive/data_prep2.txt')"
      ],
      "metadata": {
        "id": "_d74GA_UDGBV"
      },
      "execution_count": 133,
      "outputs": []
    },
    {
      "cell_type": "code",
      "source": [
        "df.head()"
      ],
      "metadata": {
        "id": "sRqwNpZVDofN",
        "colab": {
          "base_uri": "https://localhost:8080/",
          "height": 337
        },
        "outputId": "eec54afd-0123-45c9-fa76-03442692c16e"
      },
      "execution_count": 134,
      "outputs": [
        {
          "output_type": "execute_result",
          "data": {
            "text/plain": [
              "                                              Review  Rating  Sentiment  \\\n",
              "0  nice hotel expensive parking got good deal sta...       4          1   \n",
              "1  ok nothing special charge diamond member hilto...       2          0   \n",
              "2  nice rooms not 4* experience hotel monaco seat...       3          0   \n",
              "3  unique, great stay, wonderful time hotel monac...       5          1   \n",
              "4  great stay great stay, went seahawk game aweso...       5          1   \n",
              "\n",
              "   char_count  Word_count  Average_Word_Length  \\\n",
              "0         593          87             6.816092   \n",
              "1        1689         250             6.756000   \n",
              "2        1427         217             6.576037   \n",
              "3         600          89             6.741573   \n",
              "4        1281         191             6.706806   \n",
              "\n",
              "                                               Clean  \\\n",
              "0  nice hotel expensive parking got good deal sta...   \n",
              "1  ok nothing special charge diamond member hilto...   \n",
              "2  nice rooms 4 experience hotel monaco seattle g...   \n",
              "3  unique great stay wonderful time hotel monaco ...   \n",
              "4  great stay great stay went seahawk game awesom...   \n",
              "\n",
              "                                        Review_lists  polarity  \\\n",
              "0  [nice, hotel, expensive, parking, got, good, d...  0.208744   \n",
              "1  [ok, nothing, special, charge, diamond, member...  0.214923   \n",
              "2  [nice, rooms, 4, experience, hotel, monaco, se...  0.294420   \n",
              "3  [unique, great, stay, wonderful, time, hotel, ...  0.504825   \n",
              "4  [great, stay, great, stay, went, seahawk, game...  0.384615   \n",
              "\n",
              "   text_blob_sent                                             scores  \\\n",
              "0               1  {'neg': 0.072, 'neu': 0.643, 'pos': 0.285, 'co...   \n",
              "1               1  {'neg': 0.11, 'neu': 0.701, 'pos': 0.189, 'com...   \n",
              "2               1  {'neg': 0.081, 'neu': 0.7, 'pos': 0.219, 'comp...   \n",
              "3               1  {'neg': 0.06, 'neu': 0.555, 'pos': 0.385, 'com...   \n",
              "4               1  {'neg': 0.135, 'neu': 0.643, 'pos': 0.221, 'co...   \n",
              "\n",
              "   compound    neg    pos  \n",
              "0    0.9747  0.072  0.285  \n",
              "1    0.9787  0.110  0.189  \n",
              "2    0.9889  0.081  0.219  \n",
              "3    0.9912  0.060  0.385  \n",
              "4    0.9797  0.135  0.221  "
            ],
            "text/html": [
              "\n",
              "  <div id=\"df-244b1e3a-09a3-40db-9c68-822a6dd0bc8e\">\n",
              "    <div class=\"colab-df-container\">\n",
              "      <div>\n",
              "<style scoped>\n",
              "    .dataframe tbody tr th:only-of-type {\n",
              "        vertical-align: middle;\n",
              "    }\n",
              "\n",
              "    .dataframe tbody tr th {\n",
              "        vertical-align: top;\n",
              "    }\n",
              "\n",
              "    .dataframe thead th {\n",
              "        text-align: right;\n",
              "    }\n",
              "</style>\n",
              "<table border=\"1\" class=\"dataframe\">\n",
              "  <thead>\n",
              "    <tr style=\"text-align: right;\">\n",
              "      <th></th>\n",
              "      <th>Review</th>\n",
              "      <th>Rating</th>\n",
              "      <th>Sentiment</th>\n",
              "      <th>char_count</th>\n",
              "      <th>Word_count</th>\n",
              "      <th>Average_Word_Length</th>\n",
              "      <th>Clean</th>\n",
              "      <th>Review_lists</th>\n",
              "      <th>polarity</th>\n",
              "      <th>text_blob_sent</th>\n",
              "      <th>scores</th>\n",
              "      <th>compound</th>\n",
              "      <th>neg</th>\n",
              "      <th>pos</th>\n",
              "    </tr>\n",
              "  </thead>\n",
              "  <tbody>\n",
              "    <tr>\n",
              "      <th>0</th>\n",
              "      <td>nice hotel expensive parking got good deal sta...</td>\n",
              "      <td>4</td>\n",
              "      <td>1</td>\n",
              "      <td>593</td>\n",
              "      <td>87</td>\n",
              "      <td>6.816092</td>\n",
              "      <td>nice hotel expensive parking got good deal sta...</td>\n",
              "      <td>[nice, hotel, expensive, parking, got, good, d...</td>\n",
              "      <td>0.208744</td>\n",
              "      <td>1</td>\n",
              "      <td>{'neg': 0.072, 'neu': 0.643, 'pos': 0.285, 'co...</td>\n",
              "      <td>0.9747</td>\n",
              "      <td>0.072</td>\n",
              "      <td>0.285</td>\n",
              "    </tr>\n",
              "    <tr>\n",
              "      <th>1</th>\n",
              "      <td>ok nothing special charge diamond member hilto...</td>\n",
              "      <td>2</td>\n",
              "      <td>0</td>\n",
              "      <td>1689</td>\n",
              "      <td>250</td>\n",
              "      <td>6.756000</td>\n",
              "      <td>ok nothing special charge diamond member hilto...</td>\n",
              "      <td>[ok, nothing, special, charge, diamond, member...</td>\n",
              "      <td>0.214923</td>\n",
              "      <td>1</td>\n",
              "      <td>{'neg': 0.11, 'neu': 0.701, 'pos': 0.189, 'com...</td>\n",
              "      <td>0.9787</td>\n",
              "      <td>0.110</td>\n",
              "      <td>0.189</td>\n",
              "    </tr>\n",
              "    <tr>\n",
              "      <th>2</th>\n",
              "      <td>nice rooms not 4* experience hotel monaco seat...</td>\n",
              "      <td>3</td>\n",
              "      <td>0</td>\n",
              "      <td>1427</td>\n",
              "      <td>217</td>\n",
              "      <td>6.576037</td>\n",
              "      <td>nice rooms 4 experience hotel monaco seattle g...</td>\n",
              "      <td>[nice, rooms, 4, experience, hotel, monaco, se...</td>\n",
              "      <td>0.294420</td>\n",
              "      <td>1</td>\n",
              "      <td>{'neg': 0.081, 'neu': 0.7, 'pos': 0.219, 'comp...</td>\n",
              "      <td>0.9889</td>\n",
              "      <td>0.081</td>\n",
              "      <td>0.219</td>\n",
              "    </tr>\n",
              "    <tr>\n",
              "      <th>3</th>\n",
              "      <td>unique, great stay, wonderful time hotel monac...</td>\n",
              "      <td>5</td>\n",
              "      <td>1</td>\n",
              "      <td>600</td>\n",
              "      <td>89</td>\n",
              "      <td>6.741573</td>\n",
              "      <td>unique great stay wonderful time hotel monaco ...</td>\n",
              "      <td>[unique, great, stay, wonderful, time, hotel, ...</td>\n",
              "      <td>0.504825</td>\n",
              "      <td>1</td>\n",
              "      <td>{'neg': 0.06, 'neu': 0.555, 'pos': 0.385, 'com...</td>\n",
              "      <td>0.9912</td>\n",
              "      <td>0.060</td>\n",
              "      <td>0.385</td>\n",
              "    </tr>\n",
              "    <tr>\n",
              "      <th>4</th>\n",
              "      <td>great stay great stay, went seahawk game aweso...</td>\n",
              "      <td>5</td>\n",
              "      <td>1</td>\n",
              "      <td>1281</td>\n",
              "      <td>191</td>\n",
              "      <td>6.706806</td>\n",
              "      <td>great stay great stay went seahawk game awesom...</td>\n",
              "      <td>[great, stay, great, stay, went, seahawk, game...</td>\n",
              "      <td>0.384615</td>\n",
              "      <td>1</td>\n",
              "      <td>{'neg': 0.135, 'neu': 0.643, 'pos': 0.221, 'co...</td>\n",
              "      <td>0.9797</td>\n",
              "      <td>0.135</td>\n",
              "      <td>0.221</td>\n",
              "    </tr>\n",
              "  </tbody>\n",
              "</table>\n",
              "</div>\n",
              "      <button class=\"colab-df-convert\" onclick=\"convertToInteractive('df-244b1e3a-09a3-40db-9c68-822a6dd0bc8e')\"\n",
              "              title=\"Convert this dataframe to an interactive table.\"\n",
              "              style=\"display:none;\">\n",
              "        \n",
              "  <svg xmlns=\"http://www.w3.org/2000/svg\" height=\"24px\"viewBox=\"0 0 24 24\"\n",
              "       width=\"24px\">\n",
              "    <path d=\"M0 0h24v24H0V0z\" fill=\"none\"/>\n",
              "    <path d=\"M18.56 5.44l.94 2.06.94-2.06 2.06-.94-2.06-.94-.94-2.06-.94 2.06-2.06.94zm-11 1L8.5 8.5l.94-2.06 2.06-.94-2.06-.94L8.5 2.5l-.94 2.06-2.06.94zm10 10l.94 2.06.94-2.06 2.06-.94-2.06-.94-.94-2.06-.94 2.06-2.06.94z\"/><path d=\"M17.41 7.96l-1.37-1.37c-.4-.4-.92-.59-1.43-.59-.52 0-1.04.2-1.43.59L10.3 9.45l-7.72 7.72c-.78.78-.78 2.05 0 2.83L4 21.41c.39.39.9.59 1.41.59.51 0 1.02-.2 1.41-.59l7.78-7.78 2.81-2.81c.8-.78.8-2.07 0-2.86zM5.41 20L4 18.59l7.72-7.72 1.47 1.35L5.41 20z\"/>\n",
              "  </svg>\n",
              "      </button>\n",
              "      \n",
              "  <style>\n",
              "    .colab-df-container {\n",
              "      display:flex;\n",
              "      flex-wrap:wrap;\n",
              "      gap: 12px;\n",
              "    }\n",
              "\n",
              "    .colab-df-convert {\n",
              "      background-color: #E8F0FE;\n",
              "      border: none;\n",
              "      border-radius: 50%;\n",
              "      cursor: pointer;\n",
              "      display: none;\n",
              "      fill: #1967D2;\n",
              "      height: 32px;\n",
              "      padding: 0 0 0 0;\n",
              "      width: 32px;\n",
              "    }\n",
              "\n",
              "    .colab-df-convert:hover {\n",
              "      background-color: #E2EBFA;\n",
              "      box-shadow: 0px 1px 2px rgba(60, 64, 67, 0.3), 0px 1px 3px 1px rgba(60, 64, 67, 0.15);\n",
              "      fill: #174EA6;\n",
              "    }\n",
              "\n",
              "    [theme=dark] .colab-df-convert {\n",
              "      background-color: #3B4455;\n",
              "      fill: #D2E3FC;\n",
              "    }\n",
              "\n",
              "    [theme=dark] .colab-df-convert:hover {\n",
              "      background-color: #434B5C;\n",
              "      box-shadow: 0px 1px 3px 1px rgba(0, 0, 0, 0.15);\n",
              "      filter: drop-shadow(0px 1px 2px rgba(0, 0, 0, 0.3));\n",
              "      fill: #FFFFFF;\n",
              "    }\n",
              "  </style>\n",
              "\n",
              "      <script>\n",
              "        const buttonEl =\n",
              "          document.querySelector('#df-244b1e3a-09a3-40db-9c68-822a6dd0bc8e button.colab-df-convert');\n",
              "        buttonEl.style.display =\n",
              "          google.colab.kernel.accessAllowed ? 'block' : 'none';\n",
              "\n",
              "        async function convertToInteractive(key) {\n",
              "          const element = document.querySelector('#df-244b1e3a-09a3-40db-9c68-822a6dd0bc8e');\n",
              "          const dataTable =\n",
              "            await google.colab.kernel.invokeFunction('convertToInteractive',\n",
              "                                                     [key], {});\n",
              "          if (!dataTable) return;\n",
              "\n",
              "          const docLinkHtml = 'Like what you see? Visit the ' +\n",
              "            '<a target=\"_blank\" href=https://colab.research.google.com/notebooks/data_table.ipynb>data table notebook</a>'\n",
              "            + ' to learn more about interactive tables.';\n",
              "          element.innerHTML = '';\n",
              "          dataTable['output_type'] = 'display_data';\n",
              "          await google.colab.output.renderOutput(dataTable, element);\n",
              "          const docLink = document.createElement('div');\n",
              "          docLink.innerHTML = docLinkHtml;\n",
              "          element.appendChild(docLink);\n",
              "        }\n",
              "      </script>\n",
              "    </div>\n",
              "  </div>\n",
              "  "
            ]
          },
          "metadata": {},
          "execution_count": 134
        }
      ]
    },
    {
      "cell_type": "code",
      "source": [
        "from nltk.stem import WordNetLemmatizer\n",
        "from collections import Counter\n",
        "from wordcloud import WordCloud,STOPWORDS\n",
        "import re\n",
        "from nltk.tokenize import word_tokenize\n",
        "from nltk.corpus import stopwords\n",
        "import nltk\n",
        "nltk.download(['punkt', 'wordnet', 'omw-1.4', 'stopwords'])"
      ],
      "metadata": {
        "id": "wGaTxGten9hS",
        "colab": {
          "base_uri": "https://localhost:8080/"
        },
        "outputId": "8e33c972-fd88-42cb-f779-bbc471212217"
      },
      "execution_count": 5,
      "outputs": [
        {
          "output_type": "stream",
          "name": "stderr",
          "text": [
            "[nltk_data] Downloading package punkt to /root/nltk_data...\n",
            "[nltk_data]   Unzipping tokenizers/punkt.zip.\n",
            "[nltk_data] Downloading package wordnet to /root/nltk_data...\n",
            "[nltk_data] Downloading package omw-1.4 to /root/nltk_data...\n",
            "[nltk_data] Downloading package stopwords to /root/nltk_data...\n",
            "[nltk_data]   Unzipping corpora/stopwords.zip.\n"
          ]
        },
        {
          "output_type": "execute_result",
          "data": {
            "text/plain": [
              "True"
            ]
          },
          "metadata": {},
          "execution_count": 5
        }
      ]
    },
    {
      "cell_type": "markdown",
      "source": [
        "**Lemmatisation des données**"
      ],
      "metadata": {
        "id": "r_X8KFtXSE9D"
      }
    },
    {
      "cell_type": "code",
      "source": [
        "#text prerocessing\n",
        "def text_preprocess(text):\n",
        "    \"\"\"\n",
        "    Tokenize \n",
        "    Input: Raw text\n",
        "           \n",
        "    Output: Lemmatized texts\n",
        "    \"\"\"\n",
        "\n",
        "    text = re.sub(r'https?://\\S+', '', text) #remove http links\n",
        "    text = re.sub(r\"[^a-zA-Z]\", \" \", text) #remove punktuation and numbers\n",
        "    \n",
        "    tokens = word_tokenize(text) #tokenize to words\n",
        "\n",
        "    lemmatizer = WordNetLemmatizer()\n",
        "    stop_words = stopwords.words(\"english\")\n",
        "\n",
        "    clean_tokens = [lemmatizer.lemmatize(tok).lower().strip() for tok in tokens if tok not in stop_words] #lematization and stop words removal\n",
        "    \n",
        "    return ' '.join(clean_tokens)"
      ],
      "metadata": {
        "id": "PFgfUmmZnmqR"
      },
      "execution_count": 6,
      "outputs": []
    },
    {
      "cell_type": "code",
      "source": [
        "X_clean = df['Review'].apply(text_preprocess)"
      ],
      "metadata": {
        "id": "jdC3vX14sIYB"
      },
      "execution_count": 7,
      "outputs": []
    },
    {
      "cell_type": "code",
      "source": [
        "from sklearn.feature_extraction.text import TfidfVectorizer, CountVectorizer\n",
        "from sklearn.model_selection import StratifiedKFold, train_test_split\n",
        "from sklearn.metrics import classification_report, confusion_matrix , f1_score, roc_auc_score, precision_score, recall_score\n",
        "from sklearn.pipeline import Pipeline\n",
        "from sklearn.linear_model import LogisticRegression\n",
        "from sklearn.svm import LinearSVC"
      ],
      "metadata": {
        "id": "vgM5gYJPta35"
      },
      "execution_count": 8,
      "outputs": []
    },
    {
      "cell_type": "markdown",
      "source": [
        "**Choix de la méthodologie de séparation des données**"
      ],
      "metadata": {
        "id": "jkD-mINFxwvw"
      }
    },
    {
      "cell_type": "markdown",
      "source": [
        "**1. train_test_split**"
      ],
      "metadata": {
        "id": "BClkW9tnTUN-"
      }
    },
    {
      "cell_type": "code",
      "source": [
        "index = 0\n",
        "y_sent= df['Sentiment']\n",
        "y_rate=df['Rating']\n",
        "\n",
        "#split data\n",
        "X_train, X_test, y_train, y_test = train_test_split(X_clean.values, y_sent.values, test_size = 0.2, stratify = y_sent, random_state = 10)\n",
        "\n",
        "#define empty DataFrame for results\n",
        "df_results = pd.DataFrame(columns = ['model', 'f1_pos', 'f1_neg', 'roc_auc'])\n"
      ],
      "metadata": {
        "id": "VvZF6ccjtC2P"
      },
      "execution_count": 18,
      "outputs": []
    },
    {
      "cell_type": "code",
      "source": [
        "from sklearn.linear_model import LogisticRegression\n",
        "from sklearn.tree import DecisionTreeClassifier\n",
        "from sklearn.ensemble import RandomForestClassifier\n",
        "from sklearn.neighbors import KNeighborsClassifier\n",
        "\n",
        "from sklearn.preprocessing import MinMaxScaler, StandardScaler\n",
        "from sklearn.feature_extraction.text import TfidfVectorizer\n",
        "from sklearn.model_selection import cross_validate\n",
        "from sklearn.metrics import precision_score, recall_score, f1_score\n",
        "from sklearn.pipeline import Pipeline, FeatureUnion\n",
        "from sklearn.model_selection import cross_val_predict\n",
        "from sklearn.metrics import confusion_matrix\n"
      ],
      "metadata": {
        "id": "vO4lL7kPtmt3"
      },
      "execution_count": 11,
      "outputs": []
    },
    {
      "cell_type": "code",
      "source": [
        "list_model=[LogisticRegression(max_iter=1000), DecisionTreeClassifier(), RandomForestClassifier(), KNeighborsClassifier()]"
      ],
      "metadata": {
        "id": "4rZpnc8R2acT"
      },
      "execution_count": 12,
      "outputs": []
    },
    {
      "cell_type": "code",
      "source": [
        "def train_models(list_model):\n",
        "  for idx, name in enumerate(list_model):\n",
        "\n",
        "    print(f'Training model {name} ...')\n",
        "    clf= Pipeline([ ('vec', TfidfVectorizer()), ('clf', list_model[idx])])\n",
        "    clf.fit(X_train, y_train)\n",
        "    y_hat = clf.predict(X_test)\n",
        "    \n",
        "    #calculate metrics\n",
        "    f1_fold = f1_score(y_test,y_hat)\n",
        "    f1_neg_fold = f1_score(y_test,y_hat, pos_label = 0)\n",
        "    cr_fold = classification_report(y_test,y_hat)\n",
        "    roc_fold = roc_auc_score(y_test,y_hat)\n",
        "\n",
        "    #write results\n",
        "    df_results.loc[index, 'model'] = name\n",
        "    df_results.loc[index, 'f1_pos'] = f1_fold\n",
        "    df_results.loc[index, 'f1_neg'] = f1_neg_fold\n",
        "    df_results.loc[index, 'roc_auc'] = roc_fold\n",
        "\n",
        "    "
      ],
      "metadata": {
        "id": "lF8uIIwEzxBH"
      },
      "execution_count": 46,
      "outputs": []
    },
    {
      "cell_type": "code",
      "source": [
        "train_models(list_model)"
      ],
      "metadata": {
        "colab": {
          "base_uri": "https://localhost:8080/"
        },
        "id": "ysJxIYFN6VHH",
        "outputId": "7fd3438a-4154-4e61-86a7-9ced8dbe31be"
      },
      "execution_count": 42,
      "outputs": [
        {
          "output_type": "stream",
          "name": "stdout",
          "text": [
            "Training model LogisticRegression(max_iter=1000) ...\n",
            "Training model DecisionTreeClassifier() ...\n",
            "Training model RandomForestClassifier() ...\n",
            "Training model KNeighborsClassifier() ...\n"
          ]
        }
      ]
    },
    {
      "cell_type": "code",
      "source": [
        "display(df_results)"
      ],
      "metadata": {
        "colab": {
          "base_uri": "https://localhost:8080/",
          "height": 206
        },
        "id": "yMZuewzb8YmW",
        "outputId": "8d4e25ec-fde2-487f-cbe6-a6c1e182bd16"
      },
      "execution_count": 43,
      "outputs": [
        {
          "output_type": "display_data",
          "data": {
            "text/plain": [
              "                                               model    f1_pos    f1_neg  \\\n",
              "0                  LogisticRegression(max_iter=1000)   0.93533  0.788542   \n",
              "1                           DecisionTreeClassifier()  0.856108  0.588512   \n",
              "2  (DecisionTreeClassifier(max_features='auto', r...  0.900839  0.565046   \n",
              "3                             KNeighborsClassifier()  0.879819  0.497789   \n",
              "4                             KNeighborsClassifier()  0.874315  0.492005   \n",
              "\n",
              "    roc_auc  \n",
              "0  0.836717  \n",
              "1  0.719958  \n",
              "2  0.697087  \n",
              "3  0.664355  \n",
              "4  0.661005  "
            ],
            "text/html": [
              "\n",
              "  <div id=\"df-362424cd-2652-4800-9897-6a65835fdb66\">\n",
              "    <div class=\"colab-df-container\">\n",
              "      <div>\n",
              "<style scoped>\n",
              "    .dataframe tbody tr th:only-of-type {\n",
              "        vertical-align: middle;\n",
              "    }\n",
              "\n",
              "    .dataframe tbody tr th {\n",
              "        vertical-align: top;\n",
              "    }\n",
              "\n",
              "    .dataframe thead th {\n",
              "        text-align: right;\n",
              "    }\n",
              "</style>\n",
              "<table border=\"1\" class=\"dataframe\">\n",
              "  <thead>\n",
              "    <tr style=\"text-align: right;\">\n",
              "      <th></th>\n",
              "      <th>model</th>\n",
              "      <th>f1_pos</th>\n",
              "      <th>f1_neg</th>\n",
              "      <th>roc_auc</th>\n",
              "    </tr>\n",
              "  </thead>\n",
              "  <tbody>\n",
              "    <tr>\n",
              "      <th>0</th>\n",
              "      <td>LogisticRegression(max_iter=1000)</td>\n",
              "      <td>0.93533</td>\n",
              "      <td>0.788542</td>\n",
              "      <td>0.836717</td>\n",
              "    </tr>\n",
              "    <tr>\n",
              "      <th>1</th>\n",
              "      <td>DecisionTreeClassifier()</td>\n",
              "      <td>0.856108</td>\n",
              "      <td>0.588512</td>\n",
              "      <td>0.719958</td>\n",
              "    </tr>\n",
              "    <tr>\n",
              "      <th>2</th>\n",
              "      <td>(DecisionTreeClassifier(max_features='auto', r...</td>\n",
              "      <td>0.900839</td>\n",
              "      <td>0.565046</td>\n",
              "      <td>0.697087</td>\n",
              "    </tr>\n",
              "    <tr>\n",
              "      <th>3</th>\n",
              "      <td>KNeighborsClassifier()</td>\n",
              "      <td>0.879819</td>\n",
              "      <td>0.497789</td>\n",
              "      <td>0.664355</td>\n",
              "    </tr>\n",
              "    <tr>\n",
              "      <th>4</th>\n",
              "      <td>KNeighborsClassifier()</td>\n",
              "      <td>0.874315</td>\n",
              "      <td>0.492005</td>\n",
              "      <td>0.661005</td>\n",
              "    </tr>\n",
              "  </tbody>\n",
              "</table>\n",
              "</div>\n",
              "      <button class=\"colab-df-convert\" onclick=\"convertToInteractive('df-362424cd-2652-4800-9897-6a65835fdb66')\"\n",
              "              title=\"Convert this dataframe to an interactive table.\"\n",
              "              style=\"display:none;\">\n",
              "        \n",
              "  <svg xmlns=\"http://www.w3.org/2000/svg\" height=\"24px\"viewBox=\"0 0 24 24\"\n",
              "       width=\"24px\">\n",
              "    <path d=\"M0 0h24v24H0V0z\" fill=\"none\"/>\n",
              "    <path d=\"M18.56 5.44l.94 2.06.94-2.06 2.06-.94-2.06-.94-.94-2.06-.94 2.06-2.06.94zm-11 1L8.5 8.5l.94-2.06 2.06-.94-2.06-.94L8.5 2.5l-.94 2.06-2.06.94zm10 10l.94 2.06.94-2.06 2.06-.94-2.06-.94-.94-2.06-.94 2.06-2.06.94z\"/><path d=\"M17.41 7.96l-1.37-1.37c-.4-.4-.92-.59-1.43-.59-.52 0-1.04.2-1.43.59L10.3 9.45l-7.72 7.72c-.78.78-.78 2.05 0 2.83L4 21.41c.39.39.9.59 1.41.59.51 0 1.02-.2 1.41-.59l7.78-7.78 2.81-2.81c.8-.78.8-2.07 0-2.86zM5.41 20L4 18.59l7.72-7.72 1.47 1.35L5.41 20z\"/>\n",
              "  </svg>\n",
              "      </button>\n",
              "      \n",
              "  <style>\n",
              "    .colab-df-container {\n",
              "      display:flex;\n",
              "      flex-wrap:wrap;\n",
              "      gap: 12px;\n",
              "    }\n",
              "\n",
              "    .colab-df-convert {\n",
              "      background-color: #E8F0FE;\n",
              "      border: none;\n",
              "      border-radius: 50%;\n",
              "      cursor: pointer;\n",
              "      display: none;\n",
              "      fill: #1967D2;\n",
              "      height: 32px;\n",
              "      padding: 0 0 0 0;\n",
              "      width: 32px;\n",
              "    }\n",
              "\n",
              "    .colab-df-convert:hover {\n",
              "      background-color: #E2EBFA;\n",
              "      box-shadow: 0px 1px 2px rgba(60, 64, 67, 0.3), 0px 1px 3px 1px rgba(60, 64, 67, 0.15);\n",
              "      fill: #174EA6;\n",
              "    }\n",
              "\n",
              "    [theme=dark] .colab-df-convert {\n",
              "      background-color: #3B4455;\n",
              "      fill: #D2E3FC;\n",
              "    }\n",
              "\n",
              "    [theme=dark] .colab-df-convert:hover {\n",
              "      background-color: #434B5C;\n",
              "      box-shadow: 0px 1px 3px 1px rgba(0, 0, 0, 0.15);\n",
              "      filter: drop-shadow(0px 1px 2px rgba(0, 0, 0, 0.3));\n",
              "      fill: #FFFFFF;\n",
              "    }\n",
              "  </style>\n",
              "\n",
              "      <script>\n",
              "        const buttonEl =\n",
              "          document.querySelector('#df-362424cd-2652-4800-9897-6a65835fdb66 button.colab-df-convert');\n",
              "        buttonEl.style.display =\n",
              "          google.colab.kernel.accessAllowed ? 'block' : 'none';\n",
              "\n",
              "        async function convertToInteractive(key) {\n",
              "          const element = document.querySelector('#df-362424cd-2652-4800-9897-6a65835fdb66');\n",
              "          const dataTable =\n",
              "            await google.colab.kernel.invokeFunction('convertToInteractive',\n",
              "                                                     [key], {});\n",
              "          if (!dataTable) return;\n",
              "\n",
              "          const docLinkHtml = 'Like what you see? Visit the ' +\n",
              "            '<a target=\"_blank\" href=https://colab.research.google.com/notebooks/data_table.ipynb>data table notebook</a>'\n",
              "            + ' to learn more about interactive tables.';\n",
              "          element.innerHTML = '';\n",
              "          dataTable['output_type'] = 'display_data';\n",
              "          await google.colab.output.renderOutput(dataTable, element);\n",
              "          const docLink = document.createElement('div');\n",
              "          docLink.innerHTML = docLinkHtml;\n",
              "          element.appendChild(docLink);\n",
              "        }\n",
              "      </script>\n",
              "    </div>\n",
              "  </div>\n",
              "  "
            ]
          },
          "metadata": {}
        }
      ]
    },
    {
      "cell_type": "markdown",
      "source": [
        "**2. Kfold cross validation**"
      ],
      "metadata": {
        "id": "CH1Km1t_8k_U"
      }
    },
    {
      "cell_type": "markdown",
      "source": [
        "Cette méthode nous permet de palier aux variations de l'échantillon pris mais nous permet aussi d'avoir en sortie les métriques dont on a besoin."
      ],
      "metadata": {
        "id": "OeQEY4VO_lJZ"
      }
    },
    {
      "cell_type": "code",
      "source": [
        "tvec = TfidfVectorizer(stop_words=None)\n",
        "lr = LogisticRegression(max_iter=1000)"
      ],
      "metadata": {
        "id": "yR5V5vAAu9Mh"
      },
      "execution_count": 59,
      "outputs": []
    },
    {
      "cell_type": "code",
      "source": [
        "def lr_cv(X, Y, model, average_method='binary'):\n",
        "    model_linear = Pipeline([\n",
        "    ('vectorizer', TfidfVectorizer(stop_words=None)),\n",
        "    ('classifier', model)\n",
        "])\n",
        "    cv_results = cross_validate(model_linear, X, Y,cv=5)\n",
        "    cv_results = pd.DataFrame(cv_results)\n",
        "    return cv_results"
      ],
      "metadata": {
        "id": "DTNXdHILyDau"
      },
      "execution_count": 66,
      "outputs": []
    },
    {
      "cell_type": "code",
      "source": [
        "lr_cv(X_clean, y_sent, lr)"
      ],
      "metadata": {
        "id": "p79gwuVYy72P",
        "colab": {
          "base_uri": "https://localhost:8080/",
          "height": 224
        },
        "outputId": "80b7d4a8-5846-4690-cfa3-9abe382cc057"
      },
      "execution_count": 60,
      "outputs": [
        {
          "output_type": "stream",
          "name": "stdout",
          "text": [
            "training model LogisticRegression(max_iter=1000)\n"
          ]
        },
        {
          "output_type": "execute_result",
          "data": {
            "text/plain": [
              "   fit_time  score_time  test_score\n",
              "0  4.332628    0.442559    0.892169\n",
              "1  3.689055    0.410654    0.898487\n",
              "2  4.494107    0.345574    0.889458\n",
              "3  3.198734    0.397680    0.896535\n",
              "4  4.679940    0.458359    0.894827"
            ],
            "text/html": [
              "\n",
              "  <div id=\"df-c6c97914-62b0-4062-b59a-29f9669ce013\">\n",
              "    <div class=\"colab-df-container\">\n",
              "      <div>\n",
              "<style scoped>\n",
              "    .dataframe tbody tr th:only-of-type {\n",
              "        vertical-align: middle;\n",
              "    }\n",
              "\n",
              "    .dataframe tbody tr th {\n",
              "        vertical-align: top;\n",
              "    }\n",
              "\n",
              "    .dataframe thead th {\n",
              "        text-align: right;\n",
              "    }\n",
              "</style>\n",
              "<table border=\"1\" class=\"dataframe\">\n",
              "  <thead>\n",
              "    <tr style=\"text-align: right;\">\n",
              "      <th></th>\n",
              "      <th>fit_time</th>\n",
              "      <th>score_time</th>\n",
              "      <th>test_score</th>\n",
              "    </tr>\n",
              "  </thead>\n",
              "  <tbody>\n",
              "    <tr>\n",
              "      <th>0</th>\n",
              "      <td>4.332628</td>\n",
              "      <td>0.442559</td>\n",
              "      <td>0.892169</td>\n",
              "    </tr>\n",
              "    <tr>\n",
              "      <th>1</th>\n",
              "      <td>3.689055</td>\n",
              "      <td>0.410654</td>\n",
              "      <td>0.898487</td>\n",
              "    </tr>\n",
              "    <tr>\n",
              "      <th>2</th>\n",
              "      <td>4.494107</td>\n",
              "      <td>0.345574</td>\n",
              "      <td>0.889458</td>\n",
              "    </tr>\n",
              "    <tr>\n",
              "      <th>3</th>\n",
              "      <td>3.198734</td>\n",
              "      <td>0.397680</td>\n",
              "      <td>0.896535</td>\n",
              "    </tr>\n",
              "    <tr>\n",
              "      <th>4</th>\n",
              "      <td>4.679940</td>\n",
              "      <td>0.458359</td>\n",
              "      <td>0.894827</td>\n",
              "    </tr>\n",
              "  </tbody>\n",
              "</table>\n",
              "</div>\n",
              "      <button class=\"colab-df-convert\" onclick=\"convertToInteractive('df-c6c97914-62b0-4062-b59a-29f9669ce013')\"\n",
              "              title=\"Convert this dataframe to an interactive table.\"\n",
              "              style=\"display:none;\">\n",
              "        \n",
              "  <svg xmlns=\"http://www.w3.org/2000/svg\" height=\"24px\"viewBox=\"0 0 24 24\"\n",
              "       width=\"24px\">\n",
              "    <path d=\"M0 0h24v24H0V0z\" fill=\"none\"/>\n",
              "    <path d=\"M18.56 5.44l.94 2.06.94-2.06 2.06-.94-2.06-.94-.94-2.06-.94 2.06-2.06.94zm-11 1L8.5 8.5l.94-2.06 2.06-.94-2.06-.94L8.5 2.5l-.94 2.06-2.06.94zm10 10l.94 2.06.94-2.06 2.06-.94-2.06-.94-.94-2.06-.94 2.06-2.06.94z\"/><path d=\"M17.41 7.96l-1.37-1.37c-.4-.4-.92-.59-1.43-.59-.52 0-1.04.2-1.43.59L10.3 9.45l-7.72 7.72c-.78.78-.78 2.05 0 2.83L4 21.41c.39.39.9.59 1.41.59.51 0 1.02-.2 1.41-.59l7.78-7.78 2.81-2.81c.8-.78.8-2.07 0-2.86zM5.41 20L4 18.59l7.72-7.72 1.47 1.35L5.41 20z\"/>\n",
              "  </svg>\n",
              "      </button>\n",
              "      \n",
              "  <style>\n",
              "    .colab-df-container {\n",
              "      display:flex;\n",
              "      flex-wrap:wrap;\n",
              "      gap: 12px;\n",
              "    }\n",
              "\n",
              "    .colab-df-convert {\n",
              "      background-color: #E8F0FE;\n",
              "      border: none;\n",
              "      border-radius: 50%;\n",
              "      cursor: pointer;\n",
              "      display: none;\n",
              "      fill: #1967D2;\n",
              "      height: 32px;\n",
              "      padding: 0 0 0 0;\n",
              "      width: 32px;\n",
              "    }\n",
              "\n",
              "    .colab-df-convert:hover {\n",
              "      background-color: #E2EBFA;\n",
              "      box-shadow: 0px 1px 2px rgba(60, 64, 67, 0.3), 0px 1px 3px 1px rgba(60, 64, 67, 0.15);\n",
              "      fill: #174EA6;\n",
              "    }\n",
              "\n",
              "    [theme=dark] .colab-df-convert {\n",
              "      background-color: #3B4455;\n",
              "      fill: #D2E3FC;\n",
              "    }\n",
              "\n",
              "    [theme=dark] .colab-df-convert:hover {\n",
              "      background-color: #434B5C;\n",
              "      box-shadow: 0px 1px 3px 1px rgba(0, 0, 0, 0.15);\n",
              "      filter: drop-shadow(0px 1px 2px rgba(0, 0, 0, 0.3));\n",
              "      fill: #FFFFFF;\n",
              "    }\n",
              "  </style>\n",
              "\n",
              "      <script>\n",
              "        const buttonEl =\n",
              "          document.querySelector('#df-c6c97914-62b0-4062-b59a-29f9669ce013 button.colab-df-convert');\n",
              "        buttonEl.style.display =\n",
              "          google.colab.kernel.accessAllowed ? 'block' : 'none';\n",
              "\n",
              "        async function convertToInteractive(key) {\n",
              "          const element = document.querySelector('#df-c6c97914-62b0-4062-b59a-29f9669ce013');\n",
              "          const dataTable =\n",
              "            await google.colab.kernel.invokeFunction('convertToInteractive',\n",
              "                                                     [key], {});\n",
              "          if (!dataTable) return;\n",
              "\n",
              "          const docLinkHtml = 'Like what you see? Visit the ' +\n",
              "            '<a target=\"_blank\" href=https://colab.research.google.com/notebooks/data_table.ipynb>data table notebook</a>'\n",
              "            + ' to learn more about interactive tables.';\n",
              "          element.innerHTML = '';\n",
              "          dataTable['output_type'] = 'display_data';\n",
              "          await google.colab.output.renderOutput(dataTable, element);\n",
              "          const docLink = document.createElement('div');\n",
              "          docLink.innerHTML = docLinkHtml;\n",
              "          element.appendChild(docLink);\n",
              "        }\n",
              "      </script>\n",
              "    </div>\n",
              "  </div>\n",
              "  "
            ]
          },
          "metadata": {},
          "execution_count": 60
        }
      ]
    },
    {
      "cell_type": "markdown",
      "source": [
        "Nous remarquons que les résultats sont bons et homogène sur les 5 différents split"
      ],
      "metadata": {
        "id": "_mgZ834dBwCE"
      }
    },
    {
      "cell_type": "markdown",
      "source": [
        "**3- Comparaison avec un classifieur Random**"
      ],
      "metadata": {
        "id": "vxyR3fWhCMaE"
      }
    },
    {
      "cell_type": "code",
      "source": [
        "from sklearn.dummy import DummyClassifier\n",
        "\n",
        "clf = DummyClassifier(strategy='most_frequent', random_state=0)\n",
        "clf.fit(X_train, y_train)"
      ],
      "metadata": {
        "id": "-I6EsGzK9fV4",
        "colab": {
          "base_uri": "https://localhost:8080/"
        },
        "outputId": "f5997270-760c-4c34-8198-60139d0ee4a7"
      },
      "execution_count": 61,
      "outputs": [
        {
          "output_type": "execute_result",
          "data": {
            "text/plain": [
              "DummyClassifier(random_state=0, strategy='most_frequent')"
            ]
          },
          "metadata": {},
          "execution_count": 61
        }
      ]
    },
    {
      "cell_type": "code",
      "source": [
        "clf.score(X_test,y_test)"
      ],
      "metadata": {
        "colab": {
          "base_uri": "https://localhost:8080/"
        },
        "id": "s436CtxGDdAV",
        "outputId": "ad243393-5c0b-4853-f873-68a74f0026b6"
      },
      "execution_count": 65,
      "outputs": [
        {
          "output_type": "execute_result",
          "data": {
            "text/plain": [
              "0.7365211027079775"
            ]
          },
          "metadata": {},
          "execution_count": 65
        }
      ]
    },
    {
      "cell_type": "markdown",
      "source": [
        "Nous remarquons que le résultat du dummy classifier est bon , en prenant en compte la classe majoritaire , mais il reste moins bon que la regression logistique , qui ne s'effectue pas au random."
      ],
      "metadata": {
        "id": "E8ZqvaoGD19q"
      }
    },
    {
      "cell_type": "markdown",
      "source": [
        "**Fonction d'aide qui sert d'antrainer les modèles**"
      ],
      "metadata": {
        "id": "yOUqBDWMEvBJ"
      }
    },
    {
      "cell_type": "code",
      "source": [
        "def lmodel_cv(liste, X, Y, vectorizer=tvec,average_method='binary'):\n",
        "  for model in liste:\n",
        "    pipe = Pipeline([\n",
        "                  ('tfidf', vectorizer),\n",
        "                  ('classify', model)\n",
        "                ])\n",
        "    cv_results = cross_validate(pipe, X, Y,cv=5)\n",
        "    res = pd.DataFrame(cv_results)\n",
        "    print(\"Accuracy du modèle \"f\"{model} :\"\n",
        "        f\"{res['test_score'].mean():.3f} +/- {res['test_score'].std():.3f}\\n\"\n",
        "        f\"{res['fit_time'].mean()}\"\n",
        "      )"
      ],
      "metadata": {
        "id": "oHa0-MrWEFdv"
      },
      "execution_count": 85,
      "outputs": []
    },
    {
      "cell_type": "markdown",
      "source": [
        "**2- Résultats sur différents scénarios**"
      ],
      "metadata": {
        "id": "mZIhImrMC0XI"
      }
    },
    {
      "cell_type": "markdown",
      "source": [
        "**Résultats de différents modèles de classification binaire avec les critiques nettoyées et lemmatisées**"
      ],
      "metadata": {
        "id": "n6cq1uVI8nO-"
      }
    },
    {
      "cell_type": "code",
      "source": [
        "lmodel_cv(list_model, X_clean,y_sent)"
      ],
      "metadata": {
        "id": "3uX5oU9T16pd",
        "colab": {
          "base_uri": "https://localhost:8080/"
        },
        "outputId": "badf469c-9fad-4f2e-9eb3-3f3f44c09415"
      },
      "execution_count": 76,
      "outputs": [
        {
          "output_type": "stream",
          "name": "stdout",
          "text": [
            "Accuracy du modèle LogisticRegression(max_iter=1000) :0.894 +/- 0.004\n",
            "4.656058645248413\n",
            "Accuracy du modèle DecisionTreeClassifier() :0.780 +/- 0.009\n",
            "20.428652906417845\n",
            "Accuracy du modèle RandomForestClassifier() :0.840 +/- 0.013\n",
            "27.52852358818054\n",
            "Accuracy du modèle KNeighborsClassifier() :0.785 +/- 0.023\n",
            "1.4950197696685792\n"
          ]
        }
      ]
    },
    {
      "cell_type": "markdown",
      "source": [
        "**Résultats de différents modèles de classification binaire avec les critiques brutes**"
      ],
      "metadata": {
        "id": "W4FMfXb88xdL"
      }
    },
    {
      "cell_type": "code",
      "source": [
        "lmodel_cv(list_model, df.Review,y_sent)"
      ],
      "metadata": {
        "id": "ksMYhQIf3wTi",
        "colab": {
          "base_uri": "https://localhost:8080/"
        },
        "outputId": "62034a24-788a-49b4-8c84-54280711c508"
      },
      "execution_count": 77,
      "outputs": [
        {
          "output_type": "stream",
          "name": "stdout",
          "text": [
            "Accuracy du modèle LogisticRegression(max_iter=1000) :0.898 +/- 0.004\n",
            "4.08646788597107\n",
            "Accuracy du modèle DecisionTreeClassifier() :0.779 +/- 0.011\n",
            "19.616008901596068\n",
            "Accuracy du modèle RandomForestClassifier() :0.839 +/- 0.012\n",
            "30.020052671432495\n",
            "Accuracy du modèle KNeighborsClassifier() :0.791 +/- 0.020\n",
            "1.7198577404022217\n"
          ]
        }
      ]
    },
    {
      "cell_type": "markdown",
      "source": [
        "**Résultats de différents modèles de classification multiclasses**"
      ],
      "metadata": {
        "id": "mHzUuD9g824_"
      }
    },
    {
      "cell_type": "code",
      "source": [
        "lmodel_cv(list_model, df.Review,y_rate,average_method='macro')"
      ],
      "metadata": {
        "id": "-frpCVJt7pW8",
        "colab": {
          "base_uri": "https://localhost:8080/"
        },
        "outputId": "4c7dd0c0-2c2c-4f2c-bb4b-da2d081f2801"
      },
      "execution_count": 78,
      "outputs": [
        {
          "output_type": "stream",
          "name": "stdout",
          "text": [
            "Accuracy du modèle LogisticRegression(max_iter=1000) :0.609 +/- 0.007\n",
            "30.760605669021608\n",
            "Accuracy du modèle DecisionTreeClassifier() :0.443 +/- 0.006\n",
            "26.716736030578613\n",
            "Accuracy du modèle RandomForestClassifier() :0.519 +/- 0.008\n",
            "51.12527294158936\n",
            "Accuracy du modèle KNeighborsClassifier() :0.450 +/- 0.023\n",
            "1.7151855945587158\n"
          ]
        }
      ]
    },
    {
      "cell_type": "markdown",
      "source": [
        "Les résultats sont toujours meilleurs avec la regression linéaire suivie de random forest\n",
        "\n",
        "Nous constatons aussi des résultats médiocres en terme de classification par rating (multiclass classification (0.6)\n",
        "\n",
        "Concernant la classification binaire , les résultats sont très bon mais allons voire plus loin la matrice de confusion ."
      ],
      "metadata": {
        "id": "aO1vlYqW-uMg"
      }
    },
    {
      "cell_type": "markdown",
      "source": [
        "**Résultats de différents modèles avec une accuracy équilibrée**"
      ],
      "metadata": {
        "id": "YJuY90C-K6ya"
      }
    },
    {
      "cell_type": "code",
      "source": [
        "def lr_cv_balanced(X, Y, model):\n",
        "    model_linear = Pipeline([\n",
        "    ('vectorizer', TfidfVectorizer(stop_words=None)),\n",
        "    ('classifier', model)\n",
        "])\n",
        "    cv_results = cross_validate(model_linear, X, Y,cv=5, scoring=\"balanced_accuracy\")\n",
        "    cv_results = pd.DataFrame(cv_results)\n",
        "    return cv_results"
      ],
      "metadata": {
        "id": "Gfp3hAGv_PVn"
      },
      "execution_count": 88,
      "outputs": []
    },
    {
      "cell_type": "code",
      "source": [
        "lr_cv_balanced(df.Review, y_sent, lr)"
      ],
      "metadata": {
        "id": "zV77n485A3mS",
        "colab": {
          "base_uri": "https://localhost:8080/",
          "height": 206
        },
        "outputId": "76136d30-82ee-4a4d-cbad-5f3a1f3b2390"
      },
      "execution_count": 90,
      "outputs": [
        {
          "output_type": "execute_result",
          "data": {
            "text/plain": [
              "   fit_time  score_time  test_score\n",
              "0  4.320276    0.498291    0.853293\n",
              "1  4.585388    0.457637    0.843693\n",
              "2  3.672983    0.380662    0.835118\n",
              "3  4.244349    0.459207    0.841240\n",
              "4  4.144080    0.535722    0.828306"
            ],
            "text/html": [
              "\n",
              "  <div id=\"df-db8c3732-7d94-46a0-9ab1-39c7f85b6900\">\n",
              "    <div class=\"colab-df-container\">\n",
              "      <div>\n",
              "<style scoped>\n",
              "    .dataframe tbody tr th:only-of-type {\n",
              "        vertical-align: middle;\n",
              "    }\n",
              "\n",
              "    .dataframe tbody tr th {\n",
              "        vertical-align: top;\n",
              "    }\n",
              "\n",
              "    .dataframe thead th {\n",
              "        text-align: right;\n",
              "    }\n",
              "</style>\n",
              "<table border=\"1\" class=\"dataframe\">\n",
              "  <thead>\n",
              "    <tr style=\"text-align: right;\">\n",
              "      <th></th>\n",
              "      <th>fit_time</th>\n",
              "      <th>score_time</th>\n",
              "      <th>test_score</th>\n",
              "    </tr>\n",
              "  </thead>\n",
              "  <tbody>\n",
              "    <tr>\n",
              "      <th>0</th>\n",
              "      <td>4.320276</td>\n",
              "      <td>0.498291</td>\n",
              "      <td>0.853293</td>\n",
              "    </tr>\n",
              "    <tr>\n",
              "      <th>1</th>\n",
              "      <td>4.585388</td>\n",
              "      <td>0.457637</td>\n",
              "      <td>0.843693</td>\n",
              "    </tr>\n",
              "    <tr>\n",
              "      <th>2</th>\n",
              "      <td>3.672983</td>\n",
              "      <td>0.380662</td>\n",
              "      <td>0.835118</td>\n",
              "    </tr>\n",
              "    <tr>\n",
              "      <th>3</th>\n",
              "      <td>4.244349</td>\n",
              "      <td>0.459207</td>\n",
              "      <td>0.841240</td>\n",
              "    </tr>\n",
              "    <tr>\n",
              "      <th>4</th>\n",
              "      <td>4.144080</td>\n",
              "      <td>0.535722</td>\n",
              "      <td>0.828306</td>\n",
              "    </tr>\n",
              "  </tbody>\n",
              "</table>\n",
              "</div>\n",
              "      <button class=\"colab-df-convert\" onclick=\"convertToInteractive('df-db8c3732-7d94-46a0-9ab1-39c7f85b6900')\"\n",
              "              title=\"Convert this dataframe to an interactive table.\"\n",
              "              style=\"display:none;\">\n",
              "        \n",
              "  <svg xmlns=\"http://www.w3.org/2000/svg\" height=\"24px\"viewBox=\"0 0 24 24\"\n",
              "       width=\"24px\">\n",
              "    <path d=\"M0 0h24v24H0V0z\" fill=\"none\"/>\n",
              "    <path d=\"M18.56 5.44l.94 2.06.94-2.06 2.06-.94-2.06-.94-.94-2.06-.94 2.06-2.06.94zm-11 1L8.5 8.5l.94-2.06 2.06-.94-2.06-.94L8.5 2.5l-.94 2.06-2.06.94zm10 10l.94 2.06.94-2.06 2.06-.94-2.06-.94-.94-2.06-.94 2.06-2.06.94z\"/><path d=\"M17.41 7.96l-1.37-1.37c-.4-.4-.92-.59-1.43-.59-.52 0-1.04.2-1.43.59L10.3 9.45l-7.72 7.72c-.78.78-.78 2.05 0 2.83L4 21.41c.39.39.9.59 1.41.59.51 0 1.02-.2 1.41-.59l7.78-7.78 2.81-2.81c.8-.78.8-2.07 0-2.86zM5.41 20L4 18.59l7.72-7.72 1.47 1.35L5.41 20z\"/>\n",
              "  </svg>\n",
              "      </button>\n",
              "      \n",
              "  <style>\n",
              "    .colab-df-container {\n",
              "      display:flex;\n",
              "      flex-wrap:wrap;\n",
              "      gap: 12px;\n",
              "    }\n",
              "\n",
              "    .colab-df-convert {\n",
              "      background-color: #E8F0FE;\n",
              "      border: none;\n",
              "      border-radius: 50%;\n",
              "      cursor: pointer;\n",
              "      display: none;\n",
              "      fill: #1967D2;\n",
              "      height: 32px;\n",
              "      padding: 0 0 0 0;\n",
              "      width: 32px;\n",
              "    }\n",
              "\n",
              "    .colab-df-convert:hover {\n",
              "      background-color: #E2EBFA;\n",
              "      box-shadow: 0px 1px 2px rgba(60, 64, 67, 0.3), 0px 1px 3px 1px rgba(60, 64, 67, 0.15);\n",
              "      fill: #174EA6;\n",
              "    }\n",
              "\n",
              "    [theme=dark] .colab-df-convert {\n",
              "      background-color: #3B4455;\n",
              "      fill: #D2E3FC;\n",
              "    }\n",
              "\n",
              "    [theme=dark] .colab-df-convert:hover {\n",
              "      background-color: #434B5C;\n",
              "      box-shadow: 0px 1px 3px 1px rgba(0, 0, 0, 0.15);\n",
              "      filter: drop-shadow(0px 1px 2px rgba(0, 0, 0, 0.3));\n",
              "      fill: #FFFFFF;\n",
              "    }\n",
              "  </style>\n",
              "\n",
              "      <script>\n",
              "        const buttonEl =\n",
              "          document.querySelector('#df-db8c3732-7d94-46a0-9ab1-39c7f85b6900 button.colab-df-convert');\n",
              "        buttonEl.style.display =\n",
              "          google.colab.kernel.accessAllowed ? 'block' : 'none';\n",
              "\n",
              "        async function convertToInteractive(key) {\n",
              "          const element = document.querySelector('#df-db8c3732-7d94-46a0-9ab1-39c7f85b6900');\n",
              "          const dataTable =\n",
              "            await google.colab.kernel.invokeFunction('convertToInteractive',\n",
              "                                                     [key], {});\n",
              "          if (!dataTable) return;\n",
              "\n",
              "          const docLinkHtml = 'Like what you see? Visit the ' +\n",
              "            '<a target=\"_blank\" href=https://colab.research.google.com/notebooks/data_table.ipynb>data table notebook</a>'\n",
              "            + ' to learn more about interactive tables.';\n",
              "          element.innerHTML = '';\n",
              "          dataTable['output_type'] = 'display_data';\n",
              "          await google.colab.output.renderOutput(dataTable, element);\n",
              "          const docLink = document.createElement('div');\n",
              "          docLink.innerHTML = docLinkHtml;\n",
              "          element.appendChild(docLink);\n",
              "        }\n",
              "      </script>\n",
              "    </div>\n",
              "  </div>\n",
              "  "
            ]
          },
          "metadata": {},
          "execution_count": 90
        }
      ]
    },
    {
      "cell_type": "markdown",
      "source": [
        "Nous remarequons que l'accuracy générale reste bonne\n"
      ],
      "metadata": {
        "id": "GOmg4_G0EsVF"
      }
    },
    {
      "cell_type": "markdown",
      "source": [
        "**Matrice de confusion de la regression logistique**"
      ],
      "metadata": {
        "id": "YJnedU3yE2Bc"
      }
    },
    {
      "cell_type": "code",
      "source": [
        "REG_LIN = Pipeline([\n",
        "    ('vectorizer', TfidfVectorizer(stop_words=None)),\n",
        "    ('classifier', lr)\n",
        "])"
      ],
      "metadata": {
        "id": "8hQHKC_7HDLx"
      },
      "execution_count": 91,
      "outputs": []
    },
    {
      "cell_type": "markdown",
      "source": [
        "**1. Classification binaire**"
      ],
      "metadata": {
        "id": "OQ-a2d5hRjcX"
      }
    },
    {
      "cell_type": "code",
      "source": [
        "CONF_MAT= confusion_matrix(cross_val_predict(REG_LIN, df.Review, y_sent, cv=5), y_sent)"
      ],
      "metadata": {
        "id": "nBxUwt3TE6ML"
      },
      "execution_count": 92,
      "outputs": []
    },
    {
      "cell_type": "code",
      "source": [
        "import matplotlib.pyplot as plt\n",
        "import seaborn as sns\n",
        "import numpy as np"
      ],
      "metadata": {
        "id": "eqYmWwueH4-N"
      },
      "execution_count": 93,
      "outputs": []
    },
    {
      "cell_type": "code",
      "source": [
        "# fonction qui permet la visualisation de la matrice de confusion\n",
        "def draw_mat(conf_mat,n,names=[\"negative\", \"positive\"]):\n",
        "  matrice_proportions = np.zeros((n,n))\n",
        "  for i in range(0,n):\n",
        "      matrice_proportions[i,:] = conf_mat[i,:]/float(conf_mat[i,:].sum())\n",
        "  confusion_df = pd.DataFrame(matrice_proportions, index=names,columns=names)\n",
        "  plt.figure(figsize=(5,5))\n",
        "  sns.heatmap(confusion_df,annot=True,annot_kws={\"size\": 12},cmap='YlGnBu',cbar=False, square=True,fmt='.2f')\n",
        "  plt.ylabel(r'Valeur réelle',fontsize=14)\n",
        "  plt.xlabel(r'Valeur prédite',fontsize=14)\n",
        "  plt.tick_params(labelsize=12)"
      ],
      "metadata": {
        "id": "P6r7Gi0pHq5D"
      },
      "execution_count": 104,
      "outputs": []
    },
    {
      "cell_type": "code",
      "source": [
        "draw_mat(CONF_MAT,2)"
      ],
      "metadata": {
        "id": "m3Pc_hMNH-OL",
        "colab": {
          "base_uri": "https://localhost:8080/",
          "height": 341
        },
        "outputId": "e1865712-1139-4069-9f27-24955aaa80c3"
      },
      "execution_count": 106,
      "outputs": [
        {
          "output_type": "display_data",
          "data": {
            "text/plain": [
              "<Figure size 360x360 with 1 Axes>"
            ],
            "image/png": "[encoded data removed]"
          },
          "metadata": {
            "needs_background": "light"
          }
        }
      ]
    },
    {
      "cell_type": "markdown",
      "source": [
        "Nous remarquons que les résultats sont bons en général, mais que la classe positive majoritaire a de meilleurs résultats ."
      ],
      "metadata": {
        "id": "v8f1ZbmTRHSa"
      }
    },
    {
      "cell_type": "markdown",
      "source": [
        "**2. Classification multiclasse**"
      ],
      "metadata": {
        "id": "04FelO_uRhXK"
      }
    },
    {
      "cell_type": "code",
      "source": [
        "CONF_MAT2= confusion_matrix(cross_val_predict(REG_LIN, df.Review, y_rate, cv=5), y_rate)"
      ],
      "metadata": {
        "id": "CcH_lE0NSMkR"
      },
      "execution_count": 100,
      "outputs": []
    },
    {
      "cell_type": "code",
      "source": [
        "draw_mat(CONF_MAT2,5,[\"1\", \"2\",\"3\",\"4\",\"5\"])"
      ],
      "metadata": {
        "colab": {
          "base_uri": "https://localhost:8080/",
          "height": 341
        },
        "id": "9WJgowadYR9Z",
        "outputId": "3edb3967-3764-4bf8-862a-fda9676b58ca"
      },
      "execution_count": 107,
      "outputs": [
        {
          "output_type": "display_data",
          "data": {
            "text/plain": [
              "<Figure size 360x360 with 1 Axes>"
            ],
            "image/png": "[encoded data removed]"
          },
          "metadata": {
            "needs_background": "light"
          }
        }
      ]
    },
    {
      "cell_type": "markdown",
      "source": [
        "Nous remarequons que les prédictions des classes intémédiaires sont vraiment mauvaises comparées à celle des notes extrêmes qui restent correctes"
      ],
      "metadata": {
        "id": "ZNVnntBPYb1U"
      }
    },
    {
      "cell_type": "markdown",
      "source": [
        "**Utilisation des autres features**"
      ],
      "metadata": {
        "id": "_Czum3d2Iskr"
      }
    },
    {
      "cell_type": "code",
      "source": [
        "X_features= df.drop(['Rating', 'Sentiment','Clean', 'Review_lists', 'text_blob_sent', 'polarity'], axis=1)"
      ],
      "metadata": {
        "id": "y7jC5p9gQjTI"
      },
      "execution_count": 123,
      "outputs": []
    },
    {
      "cell_type": "code",
      "source": [
        "from sklearn.pipeline import Pipeline\n",
        "from sklearn.compose import ColumnTransformer\n",
        "\n",
        "# pipeline for numerical data\n",
        "numerical_features=[\"char_count\", \"Word_count\", \"Average_Word_Length\"]\n",
        "\n",
        "# initialise model and vectorizers\n",
        "stand = MinMaxScaler()\n",
        "\n",
        "# construct the column transfomer\n",
        "column_transformer = ColumnTransformer(\n",
        "    [('tfidf', tvec, 'Review'), \n",
        "    ('standard', stand, numerical_features)],\n",
        "    remainder='passthrough')"
      ],
      "metadata": {
        "id": "B2w4mWmrwBqz"
      },
      "execution_count": 110,
      "outputs": []
    },
    {
      "cell_type": "markdown",
      "source": [
        "**1. avec les features numériques et review**"
      ],
      "metadata": {
        "id": "vQx8gD_1cxpc"
      }
    },
    {
      "cell_type": "code",
      "source": [
        "lmodel_cv(list_model, X_features,y_sent, vectorizer=column_transformer)"
      ],
      "metadata": {
        "colab": {
          "base_uri": "https://localhost:8080/"
        },
        "id": "q4STrGDDZ-1m",
        "outputId": "d15f713b-354b-47a5-9292-8ae6b1eb617d"
      },
      "execution_count": 124,
      "outputs": [
        {
          "output_type": "stream",
          "name": "stdout",
          "text": [
            "Accuracy du modèle LogisticRegression(max_iter=1000) :0.898 +/- 0.004\n",
            "5.578087711334229\n",
            "Accuracy du modèle DecisionTreeClassifier() :0.779 +/- 0.008\n",
            "23.599179840087892\n",
            "Accuracy du modèle RandomForestClassifier() :0.838 +/- 0.012\n",
            "30.49045033454895\n",
            "Accuracy du modèle KNeighborsClassifier() :0.796 +/- 0.020\n",
            "1.998577356338501\n"
          ]
        }
      ]
    },
    {
      "cell_type": "markdown",
      "source": [
        "**2. en ajoutant sentiment de textblob**"
      ],
      "metadata": {
        "id": "KtMPd0sac50e"
      }
    },
    {
      "cell_type": "code",
      "source": [
        "X_features= df.drop(['Rating', 'Sentiment','Clean', 'Review_lists', 'polarity'], axis=1)\n",
        "# pipeline for numerical data\n",
        "numerical_features=[\"char_count\", \"Word_count\", \"Average_Word_Length\",'text_blob_sent']"
      ],
      "metadata": {
        "id": "8GtgkqRrbZZS"
      },
      "execution_count": 119,
      "outputs": []
    },
    {
      "cell_type": "code",
      "source": [
        "lmodel_cv(list_model, X_features,y_sent, vectorizer=column_transformer)"
      ],
      "metadata": {
        "colab": {
          "base_uri": "https://localhost:8080/"
        },
        "id": "rKFQs08ecuTF",
        "outputId": "536c8fbb-0bf5-4593-be69-b47a4dd2e81e"
      },
      "execution_count": 120,
      "outputs": [
        {
          "output_type": "stream",
          "name": "stdout",
          "text": [
            "Accuracy du modèle LogisticRegression(max_iter=1000) :0.895 +/- 0.004\n",
            "6.194616365432739\n",
            "Accuracy du modèle DecisionTreeClassifier() :0.790 +/- 0.012\n",
            "21.604042196273802\n",
            "Accuracy du modèle RandomForestClassifier() :0.844 +/- 0.010\n",
            "28.851219177246094\n",
            "Accuracy du modèle KNeighborsClassifier() :0.813 +/- 0.017\n",
            "2.2243819713592528\n"
          ]
        }
      ]
    },
    {
      "cell_type": "markdown",
      "source": [
        "**3. en ajoutant sentiment de polarity**"
      ],
      "metadata": {
        "id": "Xjl9MfiLe6K0"
      }
    },
    {
      "cell_type": "code",
      "source": [
        "X_features= df.drop(['Rating', 'Sentiment','Clean', 'Review_lists', 'text_blob_sent'], axis=1)\n",
        "# pipeline for numerical data\n",
        "numerical_features=[\"char_count\", \"Word_count\", \"Average_Word_Length\",'polarity']"
      ],
      "metadata": {
        "id": "SM77J0bnemEl"
      },
      "execution_count": 125,
      "outputs": []
    },
    {
      "cell_type": "code",
      "source": [
        "lmodel_cv(list_model, X_features,y_sent, vectorizer=column_transformer)"
      ],
      "metadata": {
        "colab": {
          "base_uri": "https://localhost:8080/"
        },
        "id": "3E9jzADUfw_B",
        "outputId": "b884aff1-8578-4f10-c7d3-205321509ce9"
      },
      "execution_count": 126,
      "outputs": [
        {
          "output_type": "stream",
          "name": "stdout",
          "text": [
            "Accuracy du modèle LogisticRegression(max_iter=1000) :0.897 +/- 0.002\n",
            "4.752997732162475\n",
            "Accuracy du modèle DecisionTreeClassifier() :0.812 +/- 0.008\n",
            "24.048458862304688\n",
            "Accuracy du modèle RandomForestClassifier() :0.860 +/- 0.008\n",
            "27.454284954071046\n",
            "Accuracy du modèle KNeighborsClassifier() :0.836 +/- 0.016\n",
            "1.9267587661743164\n"
          ]
        }
      ]
    },
    {
      "cell_type": "markdown",
      "source": [
        "**4. en ne normalisant pas polarity**"
      ],
      "metadata": {
        "id": "NQzPvkmxk4YL"
      }
    },
    {
      "cell_type": "code",
      "source": [
        "numerical_features=[\"char_count\", \"Word_count\", \"Average_Word_Length\"]"
      ],
      "metadata": {
        "id": "bJnv0aafhenb"
      },
      "execution_count": 131,
      "outputs": []
    },
    {
      "cell_type": "code",
      "source": [
        "lmodel_cv(list_model, X_features,y_sent, vectorizer=column_transformer)"
      ],
      "metadata": {
        "colab": {
          "base_uri": "https://localhost:8080/"
        },
        "id": "6XWnnzbeh-jM",
        "outputId": "a0a9cd38-be45-4292-cd33-5ee96ac824d4"
      },
      "execution_count": 132,
      "outputs": [
        {
          "output_type": "stream",
          "name": "stdout",
          "text": [
            "Accuracy du modèle LogisticRegression(max_iter=1000) :0.897 +/- 0.002\n",
            "3.763304615020752\n",
            "Accuracy du modèle DecisionTreeClassifier() :0.815 +/- 0.007\n",
            "24.78030571937561\n",
            "Accuracy du modèle RandomForestClassifier() :0.858 +/- 0.008\n",
            "29.05356454849243\n",
            "Accuracy du modèle KNeighborsClassifier() :0.836 +/- 0.016\n",
            "1.9001923084259034\n"
          ]
        }
      ]
    },
    {
      "cell_type": "markdown",
      "source": [
        "**5.Rajouter vader pos, neg**"
      ],
      "metadata": {
        "id": "kbVvUEbfnIy8"
      }
    },
    {
      "cell_type": "code",
      "source": [
        "X_features= df.drop(['Rating', 'Sentiment','Clean', 'Review_lists', 'text_blob_sent', 'scores', 'compound'], axis=1)\n",
        "# pipeline for numerical data\n",
        "numerical_features=[\"char_count\", \"Word_count\", \"Average_Word_Length\"]"
      ],
      "metadata": {
        "id": "ALdOBgkFjAh8"
      },
      "execution_count": 159,
      "outputs": []
    },
    {
      "cell_type": "code",
      "source": [
        "lmodel_cv(list_model, X_features,y_sent, vectorizer=column_transformer)"
      ],
      "metadata": {
        "colab": {
          "base_uri": "https://localhost:8080/"
        },
        "id": "wfdQftKul4Lx",
        "outputId": "adb9d3e1-2972-443c-ddda-55c727262b23"
      },
      "execution_count": 136,
      "outputs": [
        {
          "output_type": "stream",
          "name": "stdout",
          "text": [
            "Accuracy du modèle LogisticRegression(max_iter=1000) :0.901 +/- 0.004\n",
            "4.247283887863159\n",
            "Accuracy du modèle DecisionTreeClassifier() :0.818 +/- 0.005\n",
            "24.712559175491332\n",
            "Accuracy du modèle RandomForestClassifier() :0.873 +/- 0.007\n",
            "27.992662525177003\n",
            "Accuracy du modèle KNeighborsClassifier() :0.844 +/- 0.013\n",
            "2.6549437046051025\n"
          ]
        }
      ]
    },
    {
      "cell_type": "code",
      "source": [
        "pipe_lr = Pipeline([\n",
        "                  ('tfidf', column_transformer),\n",
        "                  ('classify', lr)\n",
        "                ])"
      ],
      "metadata": {
        "id": "T8LYFmd5vYQF"
      },
      "execution_count": 161,
      "outputs": []
    },
    {
      "cell_type": "code",
      "source": [
        "CONF_MAT3= confusion_matrix(cross_val_predict(pipe_lr, X_features, y_sent, cv=5), y_sent)"
      ],
      "metadata": {
        "id": "GLeyxMJ_uc40"
      },
      "execution_count": 162,
      "outputs": []
    },
    {
      "cell_type": "code",
      "source": [
        "draw_mat(CONF_MAT3,2)"
      ],
      "metadata": {
        "colab": {
          "base_uri": "https://localhost:8080/",
          "height": 341
        },
        "id": "K4rB8-FLxJr5",
        "outputId": "5043ae2d-d605-496b-e586-fc13cf9cd014"
      },
      "execution_count": 163,
      "outputs": [
        {
          "output_type": "display_data",
          "data": {
            "text/plain": [
              "<Figure size 360x360 with 1 Axes>"
            ],
            "image/png": "[encoded data removed]"
          },
          "metadata": {
            "needs_background": "light"
          }
        }
      ]
    },
    {
      "cell_type": "code",
      "source": [
        "lmodel_cv(list_model, X_features,y_rate, vectorizer=column_transformer)"
      ],
      "metadata": {
        "colab": {
          "base_uri": "https://localhost:8080/"
        },
        "id": "fS8-NO-ruWU0",
        "outputId": "fee83b3f-76f3-412e-9f25-b288b6ebd851"
      },
      "execution_count": 160,
      "outputs": [
        {
          "output_type": "stream",
          "name": "stdout",
          "text": [
            "Accuracy du modèle LogisticRegression(max_iter=1000) :0.618 +/- 0.008\n",
            "37.5728837966919\n",
            "Accuracy du modèle DecisionTreeClassifier() :0.478 +/- 0.008\n",
            "27.62311987876892\n",
            "Accuracy du modèle RandomForestClassifier() :0.553 +/- 0.007\n",
            "52.08436288833618\n",
            "Accuracy du modèle KNeighborsClassifier() :0.485 +/- 0.015\n",
            "1.9379139423370362\n"
          ]
        }
      ]
    },
    {
      "cell_type": "code",
      "source": [
        "CONF_MAT4= confusion_matrix(cross_val_predict(pipe_lr, X_features, y_rate, cv=5), y_rate)"
      ],
      "metadata": {
        "id": "iXO7U4Aexbo9"
      },
      "execution_count": 164,
      "outputs": []
    },
    {
      "cell_type": "code",
      "source": [
        "draw_mat(CONF_MAT4,5,[\"1\", \"2\",\"3\",\"4\",\"5\"])"
      ],
      "metadata": {
        "colab": {
          "base_uri": "https://localhost:8080/",
          "height": 341
        },
        "id": "dKcFtU9AxmQB",
        "outputId": "c9d46847-83b5-421a-fb4a-0425b464527f"
      },
      "execution_count": 166,
      "outputs": [
        {
          "output_type": "display_data",
          "data": {
            "text/plain": [
              "<Figure size 360x360 with 1 Axes>"
            ],
            "image/png": "[encoded data removed]"
          },
          "metadata": {
            "needs_background": "light"
          }
        }
      ]
    },
    {
      "cell_type": "markdown",
      "source": [
        "**6. en ajoutant compound**"
      ],
      "metadata": {
        "id": "2nSlt9bOoatf"
      }
    },
    {
      "cell_type": "code",
      "source": [
        "X_features= df.drop(['Rating', 'Sentiment','Clean', 'Review_lists', 'text_blob_sent', 'scores'], axis=1)\n",
        "numerical_features=[\"char_count\", \"Word_count\", \"Average_Word_Length\"]"
      ],
      "metadata": {
        "id": "h6LUuQrfmGPW"
      },
      "execution_count": 142,
      "outputs": []
    },
    {
      "cell_type": "code",
      "source": [
        "lmodel_cv(list_model, X_features,y_sent, vectorizer=column_transformer)"
      ],
      "metadata": {
        "colab": {
          "base_uri": "https://localhost:8080/"
        },
        "id": "Bsd0vNa2ncft",
        "outputId": "11b4e93e-ed8f-4972-f349-62066e41d9aa"
      },
      "execution_count": 143,
      "outputs": [
        {
          "output_type": "stream",
          "name": "stdout",
          "text": [
            "Accuracy du modèle LogisticRegression(max_iter=1000) :0.899 +/- 0.004\n",
            "4.858785581588745\n",
            "Accuracy du modèle DecisionTreeClassifier() :0.815 +/- 0.006\n",
            "24.841310214996337\n",
            "Accuracy du modèle RandomForestClassifier() :0.873 +/- 0.008\n",
            "27.736583518981934\n",
            "Accuracy du modèle KNeighborsClassifier() :0.851 +/- 0.011\n",
            "1.9065592288970947\n"
          ]
        }
      ]
    },
    {
      "cell_type": "markdown",
      "source": [
        "**Utilisation du wordembedding avec le meilleur modèle** "
      ],
      "metadata": {
        "id": "EvK3plomhPEy"
      }
    },
    {
      "cell_type": "code",
      "source": [
        "!pip install gensim==4.0\n",
        "!pip install python-Levenshtein"
      ],
      "metadata": {
        "id": "m-qTmzY_hNDS",
        "colab": {
          "base_uri": "https://localhost:8080/"
        },
        "outputId": "555cd8ae-d569-41c2-d5e7-3982c1096265"
      },
      "execution_count": 144,
      "outputs": [
        {
          "output_type": "stream",
          "name": "stdout",
          "text": [
            "Looking in indexes: https://pypi.org/simple, https://us-python.pkg.dev/colab-wheels/public/simple/\n",
            "Collecting gensim==4.0\n",
            "  Downloading gensim-4.0.0-cp38-cp38-manylinux1_x86_64.whl (23.9 MB)\n",
            "\u001b[K     |████████████████████████████████| 23.9 MB 1.5 MB/s \n",
            "\u001b[?25hRequirement already satisfied: numpy>=1.11.3 in /usr/local/lib/python3.8/dist-packages (from gensim==4.0) (1.21.6)\n",
            "Requirement already satisfied: smart-open>=1.8.1 in /usr/local/lib/python3.8/dist-packages (from gensim==4.0) (6.3.0)\n",
            "Requirement already satisfied: scipy>=0.18.1 in /usr/local/lib/python3.8/dist-packages (from gensim==4.0) (1.7.3)\n",
            "Installing collected packages: gensim\n",
            "  Attempting uninstall: gensim\n",
            "    Found existing installation: gensim 3.6.0\n",
            "    Uninstalling gensim-3.6.0:\n",
            "      Successfully uninstalled gensim-3.6.0\n",
            "Successfully installed gensim-4.0.0\n",
            "Looking in indexes: https://pypi.org/simple, https://us-python.pkg.dev/colab-wheels/public/simple/\n",
            "Collecting python-Levenshtein\n",
            "  Downloading python_Levenshtein-0.20.9-py3-none-any.whl (9.4 kB)\n",
            "Collecting Levenshtein==0.20.9\n",
            "  Downloading Levenshtein-0.20.9-cp38-cp38-manylinux_2_17_x86_64.manylinux2014_x86_64.whl (174 kB)\n",
            "\u001b[K     |████████████████████████████████| 174 kB 4.8 MB/s \n",
            "\u001b[?25hCollecting rapidfuzz<3.0.0,>=2.3.0\n",
            "  Downloading rapidfuzz-2.13.7-cp38-cp38-manylinux_2_17_x86_64.manylinux2014_x86_64.whl (2.2 MB)\n",
            "\u001b[K     |████████████████████████████████| 2.2 MB 45.6 MB/s \n",
            "\u001b[?25hInstalling collected packages: rapidfuzz, Levenshtein, python-Levenshtein\n",
            "Successfully installed Levenshtein-0.20.9 python-Levenshtein-0.20.9 rapidfuzz-2.13.7\n"
          ]
        }
      ]
    },
    {
      "cell_type": "code",
      "source": [
        "from gensim.models.word2vec import Word2Vec\n",
        "from gensim.models import KeyedVectors\n",
        "import numpy as np\n",
        "     "
      ],
      "metadata": {
        "id": "BZlzMZ5AiMW7"
      },
      "execution_count": 145,
      "outputs": []
    },
    {
      "cell_type": "code",
      "source": [
        "def encode(msg, model, dim):\n",
        "    return np.mean([model[word] for word in msg if word in model] or [np.zeros(dim)], axis = 0)\n",
        "     "
      ],
      "metadata": {
        "id": "eodShkWyiUrp"
      },
      "execution_count": 146,
      "outputs": []
    },
    {
      "cell_type": "code",
      "source": [
        "# Feed a word2vec with the ingredients\n",
        "model_w2v = Word2Vec(df.Review_lists, vector_size=300, window=5, min_count=2, workers=8, sg=1)"
      ],
      "metadata": {
        "id": "Jg8nE-TEibxC"
      },
      "execution_count": 147,
      "outputs": []
    },
    {
      "cell_type": "code",
      "source": [
        "wv=model_w2v.wv\n",
        "wv.save(\"reviews\")"
      ],
      "metadata": {
        "id": "TqQUk406j3sq"
      },
      "execution_count": 148,
      "outputs": []
    },
    {
      "cell_type": "code",
      "source": [
        "w2v = KeyedVectors.load('reviews')"
      ],
      "metadata": {
        "id": "Qm5umwD2kZrn"
      },
      "execution_count": 149,
      "outputs": []
    },
    {
      "cell_type": "code",
      "source": [
        "w2v.similar_by_word(\"hotel\")"
      ],
      "metadata": {
        "colab": {
          "base_uri": "https://localhost:8080/"
        },
        "id": "hb62GKI3kNgv",
        "outputId": "e2de4386-89ff-4dca-af4b-ea9c4adf9ced"
      },
      "execution_count": 150,
      "outputs": [
        {
          "output_type": "execute_result",
          "data": {
            "text/plain": [
              "[('hoteloverall', 0.7327694296836853),\n",
              " ('sumner', 0.7262856960296631),\n",
              " ('hotelit', 0.7245540022850037),\n",
              " ('alba', 0.7163860201835632),\n",
              " ('hotelthe', 0.7159533500671387),\n",
              " ('zandbergen', 0.7151482105255127),\n",
              " ('icaria', 0.7137971520423889),\n",
              " ('well-priced', 0.708467960357666),\n",
              " ('principal', 0.7083016037940979),\n",
              " ('apex', 0.7073767781257629)]"
            ]
          },
          "metadata": {},
          "execution_count": 150
        }
      ]
    },
    {
      "cell_type": "code",
      "source": [
        "X_w2v = np.array([encode(msg, w2v, 300) for msg in df.Review_lists])"
      ],
      "metadata": {
        "id": "Oze4uGzYkgtZ"
      },
      "execution_count": 151,
      "outputs": []
    },
    {
      "cell_type": "code",
      "source": [
        "X_w2v.shape"
      ],
      "metadata": {
        "colab": {
          "base_uri": "https://localhost:8080/"
        },
        "id": "YvylSuDBlGm8",
        "outputId": "6b610f72-586d-4988-81b1-ea57defeb122"
      },
      "execution_count": 152,
      "outputs": [
        {
          "output_type": "execute_result",
          "data": {
            "text/plain": [
              "(20491, 300)"
            ]
          },
          "metadata": {},
          "execution_count": 152
        }
      ]
    },
    {
      "cell_type": "markdown",
      "source": [
        "**Application des modèles**"
      ],
      "metadata": {
        "id": "TueiS9g1lRbX"
      }
    },
    {
      "cell_type": "code",
      "source": [
        "model_lr = Pipeline([                                   \n",
        "    ('classifier', LogisticRegression(random_state=42, max_iter= 10000))\n",
        "])"
      ],
      "metadata": {
        "id": "VuWaAMz-mIPb"
      },
      "execution_count": 153,
      "outputs": []
    },
    {
      "cell_type": "code",
      "source": [
        "cv_results = cross_validate(model_lr, X_w2v, y_sent, cv=5)\n",
        "cv_results = pd.DataFrame(cv_results)\n",
        "cv_results"
      ],
      "metadata": {
        "colab": {
          "base_uri": "https://localhost:8080/",
          "height": 206
        },
        "id": "H7j1vdWxlRDL",
        "outputId": "f92fe355-348c-47c0-b108-63a60f3b5b4a"
      },
      "execution_count": 154,
      "outputs": [
        {
          "output_type": "execute_result",
          "data": {
            "text/plain": [
              "   fit_time  score_time  test_score\n",
              "0  1.393720    0.009038    0.890217\n",
              "1  1.132179    0.007171    0.894339\n",
              "2  1.399231    0.007305    0.883846\n",
              "3  1.334207    0.007121    0.895071\n",
              "4  2.335913    0.035113    0.890190"
            ],
            "text/html": [
              "\n",
              "  <div id=\"df-b23de193-d627-4bbe-84bc-c29b53082551\">\n",
              "    <div class=\"colab-df-container\">\n",
              "      <div>\n",
              "<style scoped>\n",
              "    .dataframe tbody tr th:only-of-type {\n",
              "        vertical-align: middle;\n",
              "    }\n",
              "\n",
              "    .dataframe tbody tr th {\n",
              "        vertical-align: top;\n",
              "    }\n",
              "\n",
              "    .dataframe thead th {\n",
              "        text-align: right;\n",
              "    }\n",
              "</style>\n",
              "<table border=\"1\" class=\"dataframe\">\n",
              "  <thead>\n",
              "    <tr style=\"text-align: right;\">\n",
              "      <th></th>\n",
              "      <th>fit_time</th>\n",
              "      <th>score_time</th>\n",
              "      <th>test_score</th>\n",
              "    </tr>\n",
              "  </thead>\n",
              "  <tbody>\n",
              "    <tr>\n",
              "      <th>0</th>\n",
              "      <td>1.393720</td>\n",
              "      <td>0.009038</td>\n",
              "      <td>0.890217</td>\n",
              "    </tr>\n",
              "    <tr>\n",
              "      <th>1</th>\n",
              "      <td>1.132179</td>\n",
              "      <td>0.007171</td>\n",
              "      <td>0.894339</td>\n",
              "    </tr>\n",
              "    <tr>\n",
              "      <th>2</th>\n",
              "      <td>1.399231</td>\n",
              "      <td>0.007305</td>\n",
              "      <td>0.883846</td>\n",
              "    </tr>\n",
              "    <tr>\n",
              "      <th>3</th>\n",
              "      <td>1.334207</td>\n",
              "      <td>0.007121</td>\n",
              "      <td>0.895071</td>\n",
              "    </tr>\n",
              "    <tr>\n",
              "      <th>4</th>\n",
              "      <td>2.335913</td>\n",
              "      <td>0.035113</td>\n",
              "      <td>0.890190</td>\n",
              "    </tr>\n",
              "  </tbody>\n",
              "</table>\n",
              "</div>\n",
              "      <button class=\"colab-df-convert\" onclick=\"convertToInteractive('df-b23de193-d627-4bbe-84bc-c29b53082551')\"\n",
              "              title=\"Convert this dataframe to an interactive table.\"\n",
              "              style=\"display:none;\">\n",
              "        \n",
              "  <svg xmlns=\"http://www.w3.org/2000/svg\" height=\"24px\"viewBox=\"0 0 24 24\"\n",
              "       width=\"24px\">\n",
              "    <path d=\"M0 0h24v24H0V0z\" fill=\"none\"/>\n",
              "    <path d=\"M18.56 5.44l.94 2.06.94-2.06 2.06-.94-2.06-.94-.94-2.06-.94 2.06-2.06.94zm-11 1L8.5 8.5l.94-2.06 2.06-.94-2.06-.94L8.5 2.5l-.94 2.06-2.06.94zm10 10l.94 2.06.94-2.06 2.06-.94-2.06-.94-.94-2.06-.94 2.06-2.06.94z\"/><path d=\"M17.41 7.96l-1.37-1.37c-.4-.4-.92-.59-1.43-.59-.52 0-1.04.2-1.43.59L10.3 9.45l-7.72 7.72c-.78.78-.78 2.05 0 2.83L4 21.41c.39.39.9.59 1.41.59.51 0 1.02-.2 1.41-.59l7.78-7.78 2.81-2.81c.8-.78.8-2.07 0-2.86zM5.41 20L4 18.59l7.72-7.72 1.47 1.35L5.41 20z\"/>\n",
              "  </svg>\n",
              "      </button>\n",
              "      \n",
              "  <style>\n",
              "    .colab-df-container {\n",
              "      display:flex;\n",
              "      flex-wrap:wrap;\n",
              "      gap: 12px;\n",
              "    }\n",
              "\n",
              "    .colab-df-convert {\n",
              "      background-color: #E8F0FE;\n",
              "      border: none;\n",
              "      border-radius: 50%;\n",
              "      cursor: pointer;\n",
              "      display: none;\n",
              "      fill: #1967D2;\n",
              "      height: 32px;\n",
              "      padding: 0 0 0 0;\n",
              "      width: 32px;\n",
              "    }\n",
              "\n",
              "    .colab-df-convert:hover {\n",
              "      background-color: #E2EBFA;\n",
              "      box-shadow: 0px 1px 2px rgba(60, 64, 67, 0.3), 0px 1px 3px 1px rgba(60, 64, 67, 0.15);\n",
              "      fill: #174EA6;\n",
              "    }\n",
              "\n",
              "    [theme=dark] .colab-df-convert {\n",
              "      background-color: #3B4455;\n",
              "      fill: #D2E3FC;\n",
              "    }\n",
              "\n",
              "    [theme=dark] .colab-df-convert:hover {\n",
              "      background-color: #434B5C;\n",
              "      box-shadow: 0px 1px 3px 1px rgba(0, 0, 0, 0.15);\n",
              "      filter: drop-shadow(0px 1px 2px rgba(0, 0, 0, 0.3));\n",
              "      fill: #FFFFFF;\n",
              "    }\n",
              "  </style>\n",
              "\n",
              "      <script>\n",
              "        const buttonEl =\n",
              "          document.querySelector('#df-b23de193-d627-4bbe-84bc-c29b53082551 button.colab-df-convert');\n",
              "        buttonEl.style.display =\n",
              "          google.colab.kernel.accessAllowed ? 'block' : 'none';\n",
              "\n",
              "        async function convertToInteractive(key) {\n",
              "          const element = document.querySelector('#df-b23de193-d627-4bbe-84bc-c29b53082551');\n",
              "          const dataTable =\n",
              "            await google.colab.kernel.invokeFunction('convertToInteractive',\n",
              "                                                     [key], {});\n",
              "          if (!dataTable) return;\n",
              "\n",
              "          const docLinkHtml = 'Like what you see? Visit the ' +\n",
              "            '<a target=\"_blank\" href=https://colab.research.google.com/notebooks/data_table.ipynb>data table notebook</a>'\n",
              "            + ' to learn more about interactive tables.';\n",
              "          element.innerHTML = '';\n",
              "          dataTable['output_type'] = 'display_data';\n",
              "          await google.colab.output.renderOutput(dataTable, element);\n",
              "          const docLink = document.createElement('div');\n",
              "          docLink.innerHTML = docLinkHtml;\n",
              "          element.appendChild(docLink);\n",
              "        }\n",
              "      </script>\n",
              "    </div>\n",
              "  </div>\n",
              "  "
            ]
          },
          "metadata": {},
          "execution_count": 154
        }
      ]
    },
    {
      "cell_type": "markdown",
      "source": [
        "Nous remarequons que les résultats sur la régression linaire par l'effet de l'encodage ne sont pas améliorés"
      ],
      "metadata": {
        "id": "aI0CGXu1qtul"
      }
    },
    {
      "cell_type": "code",
      "source": [
        "def lr_cv_embedding(X, Y, liste,average_method='binary'):\n",
        "  for model in liste:\n",
        "    cv_results = cross_validate(model, X, Y,cv=5)\n",
        "    res = pd.DataFrame(cv_results)\n",
        "    print(\"Accuracy du modèle \"f\"{model} :\"\n",
        "        f\"{res['test_score'].mean():.3f} +/- {res['test_score'].std():.3f}\"\n",
        "      )"
      ],
      "metadata": {
        "id": "t4mkL9PQoyEu"
      },
      "execution_count": 156,
      "outputs": []
    },
    {
      "cell_type": "code",
      "source": [
        "lr_cv_embedding(X_w2v, y_sent, list_model)"
      ],
      "metadata": {
        "colab": {
          "base_uri": "https://localhost:8080/"
        },
        "id": "vdYeDggWqgg-",
        "outputId": "48efcd4a-12e3-49e5-f388-2c67bb92b13b"
      },
      "execution_count": null,
      "outputs": [
        {
          "output_type": "stream",
          "name": "stdout",
          "text": [
            "Accuracy du modèle LogisticRegression(max_iter=1000) :0.891 +/- 0.006\n",
            "Accuracy du modèle DecisionTreeClassifier() :0.796 +/- 0.011\n",
            "Accuracy du modèle RandomForestClassifier() :0.873 +/- 0.003\n",
            "Accuracy du modèle KNeighborsClassifier() :0.844 +/- 0.004\n"
          ]
        }
      ]
    },
    {
      "cell_type": "code",
      "source": [
        "CONF_MAT_embed= confusion_matrix(cross_val_predict(lr, X_w2v, y_sent, cv=5), y_sent)"
      ],
      "metadata": {
        "id": "TK5OV3HUzbtV"
      },
      "execution_count": 171,
      "outputs": []
    },
    {
      "cell_type": "markdown",
      "source": [
        "Nous remarequons une bonne amélioration des autre modèles mis à part celui de la régression linaire"
      ],
      "metadata": {
        "id": "YDig7m3ys3Gy"
      }
    },
    {
      "cell_type": "code",
      "source": [
        "draw_mat(CONF_MAT_embed,2)"
      ],
      "metadata": {
        "colab": {
          "base_uri": "https://localhost:8080/",
          "height": 341
        },
        "id": "KC2S95-Kxs0U",
        "outputId": "52c44607-e150-4bfc-e036-4fd629c7e5fb"
      },
      "execution_count": 172,
      "outputs": [
        {
          "output_type": "display_data",
          "data": {
            "text/plain": [
              "<Figure size 360x360 with 1 Axes>"
            ],
            "image/png": "[encoded data removed]"
          },
          "metadata": {
            "needs_background": "light"
          }
        }
      ]
    },
    {
      "cell_type": "code",
      "source": [
        "lr_cv_embedding(X_w2v, y_rate, list_model)"
      ],
      "metadata": {
        "colab": {
          "base_uri": "https://localhost:8080/"
        },
        "id": "VsCzOa5esdkS",
        "outputId": "32b8d06b-1b83-4483-c1a3-a501e173ec2a"
      },
      "execution_count": 158,
      "outputs": [
        {
          "output_type": "stream",
          "name": "stdout",
          "text": [
            "Accuracy du modèle LogisticRegression(max_iter=1000) :0.620 +/- 0.009\n",
            "Accuracy du modèle DecisionTreeClassifier() :0.460 +/- 0.010\n",
            "Accuracy du modèle RandomForestClassifier() :0.577 +/- 0.010\n",
            "Accuracy du modèle KNeighborsClassifier() :0.513 +/- 0.007\n"
          ]
        }
      ]
    },
    {
      "cell_type": "code",
      "source": [
        "CONF_MAT_embed1= confusion_matrix(cross_val_predict(lr, X_w2v, y_rate, cv=5), y_rate)"
      ],
      "metadata": {
        "id": "ZJiTSpK4x1NU"
      },
      "execution_count": 173,
      "outputs": []
    },
    {
      "cell_type": "code",
      "source": [
        "draw_mat(CONF_MAT_embed1,5,[\"1\", \"2\",\"3\",\"4\",\"5\"])"
      ],
      "metadata": {
        "colab": {
          "base_uri": "https://localhost:8080/",
          "height": 341
        },
        "id": "Zq71PmHSz3P3",
        "outputId": "cb26fd1f-1ee7-4d3d-b2d9-10c8eab749e8"
      },
      "execution_count": 174,
      "outputs": [
        {
          "output_type": "display_data",
          "data": {
            "text/plain": [
              "<Figure size 360x360 with 1 Axes>"
            ],
            "image/png": "[encoded data removed]"
          },
          "metadata": {
            "needs_background": "light"
          }
        }
      ]
    },
    {
      "cell_type": "markdown",
      "source": [
        "Le meilleur modèle est celui de la regression linéaire que ce soit avec tfidf vectoriser ou w2vec, le meilleur fit est celui ou on ajoute des featuresz d'analyse de sentiment (vader et textblob). Nous allons donc essayer de performer ce modèle avec les techniques de detection d'anomalies ."
      ],
      "metadata": {
        "id": "Q7adxnp7_S51"
      }
    },
    {
      "cell_type": "code",
      "source": [
        "RG = Pipeline([\n",
        "    ('vectorizer', TfidfVectorizer(stop_words=None)),\n",
        "    ('classifier', LogisticRegression())\n",
        "])"
      ],
      "metadata": {
        "id": "eZbbr1hT_kNs"
      },
      "execution_count": 178,
      "outputs": []
    },
    {
      "cell_type": "code",
      "source": [
        "X_train, X_test, y_train, y_test = train_test_split(df.Review, y_sent, test_size=0.2, random_state=0)"
      ],
      "metadata": {
        "id": "0s98KLk-DV0K"
      },
      "execution_count": null,
      "outputs": []
    },
    {
      "cell_type": "code",
      "source": [
        "RG.fit(X_train, y_train)"
      ],
      "metadata": {
        "colab": {
          "base_uri": "https://localhost:8080/"
        },
        "id": "2oz9EBQrCd4S",
        "outputId": "572c1c71-61dd-4ab2-d78d-66d9af4904b4"
      },
      "execution_count": null,
      "outputs": [
        {
          "output_type": "execute_result",
          "data": {
            "text/plain": [
              "Pipeline(steps=[('vectorizer', TfidfVectorizer()),\n",
              "                ('classifier', LogisticRegression())])"
            ]
          },
          "metadata": {},
          "execution_count": 208
        }
      ]
    },
    {
      "cell_type": "code",
      "source": [
        "RG.predict(X_test)"
      ],
      "metadata": {
        "id": "pTUeNjLaC0Jn"
      },
      "execution_count": null,
      "outputs": []
    },
    {
      "cell_type": "code",
      "source": [
        "RG.score(X_test, y_test)"
      ],
      "metadata": {
        "colab": {
          "base_uri": "https://localhost:8080/"
        },
        "id": "i4i8B0iQDKzS",
        "outputId": "1c43cf90-3d7f-41c1-ca0d-cfc49865e54b"
      },
      "execution_count": null,
      "outputs": [
        {
          "output_type": "execute_result",
          "data": {
            "text/plain": [
              "0.9007074896316175"
            ]
          },
          "metadata": {},
          "execution_count": 210
        }
      ]
    },
    {
      "cell_type": "code",
      "source": [
        "y_pred = RG.predict(df.Review)"
      ],
      "metadata": {
        "id": "yor2c3IMFoLr"
      },
      "execution_count": null,
      "outputs": []
    },
    {
      "cell_type": "code",
      "source": [
        "df[\"outputRg\"]= y_pred"
      ],
      "metadata": {
        "id": "I5nPDNFoFx-A"
      },
      "execution_count": null,
      "outputs": []
    },
    {
      "cell_type": "code",
      "source": [
        "df.head()"
      ],
      "metadata": {
        "id": "c_rZmh1ZF9oZ",
        "outputId": "8d214186-b0bb-4596-e5ae-429d2bdb6dcf",
        "colab": {
          "base_uri": "https://localhost:8080/",
          "height": 206
        }
      },
      "execution_count": null,
      "outputs": [
        {
          "output_type": "execute_result",
          "data": {
            "text/plain": [
              "                                              Review  Rating  Sentiment  \\\n",
              "0  nice hotel expensive parking got good deal sta...       4          1   \n",
              "1  ok nothing special charge diamond member hilto...       2          0   \n",
              "2  nice rooms not 4* experience hotel monaco seat...       3          0   \n",
              "3  unique, great stay, wonderful time hotel monac...       5          1   \n",
              "4  great stay great stay, went seahawk game aweso...       5          1   \n",
              "\n",
              "   char_count  Word_count  Average_Word_Length  \\\n",
              "0         593          87             6.816092   \n",
              "1        1689         250             6.756000   \n",
              "2        1427         217             6.576037   \n",
              "3         600          89             6.741573   \n",
              "4        1281         191             6.706806   \n",
              "\n",
              "                                               Clean  \\\n",
              "0  nice hotel expensive parking got good deal sta...   \n",
              "1  ok nothing special charge diamond member hilto...   \n",
              "2  nice rooms 4 experience hotel monaco seattle g...   \n",
              "3  unique great stay wonderful time hotel monaco ...   \n",
              "4  great stay great stay went seahawk game awesom...   \n",
              "\n",
              "                                        Review_lists  outputRg  \n",
              "0  [nice, hotel, expensive, parking, got, good, d...         1  \n",
              "1  [ok, nothing, special, charge, diamond, member...         0  \n",
              "2  [nice, rooms, 4, experience, hotel, monaco, se...         0  \n",
              "3  [unique, great, stay, wonderful, time, hotel, ...         1  \n",
              "4  [great, stay, great, stay, went, seahawk, game...         1  "
            ],
            "text/html": [
              "\n",
              "  <div id=\"df-20f5db3f-6325-4138-82c8-d27c6118c736\">\n",
              "    <div class=\"colab-df-container\">\n",
              "      <div>\n",
              "<style scoped>\n",
              "    .dataframe tbody tr th:only-of-type {\n",
              "        vertical-align: middle;\n",
              "    }\n",
              "\n",
              "    .dataframe tbody tr th {\n",
              "        vertical-align: top;\n",
              "    }\n",
              "\n",
              "    .dataframe thead th {\n",
              "        text-align: right;\n",
              "    }\n",
              "</style>\n",
              "<table border=\"1\" class=\"dataframe\">\n",
              "  <thead>\n",
              "    <tr style=\"text-align: right;\">\n",
              "      <th></th>\n",
              "      <th>Review</th>\n",
              "      <th>Rating</th>\n",
              "      <th>Sentiment</th>\n",
              "      <th>char_count</th>\n",
              "      <th>Word_count</th>\n",
              "      <th>Average_Word_Length</th>\n",
              "      <th>Clean</th>\n",
              "      <th>Review_lists</th>\n",
              "      <th>outputRg</th>\n",
              "    </tr>\n",
              "  </thead>\n",
              "  <tbody>\n",
              "    <tr>\n",
              "      <th>0</th>\n",
              "      <td>nice hotel expensive parking got good deal sta...</td>\n",
              "      <td>4</td>\n",
              "      <td>1</td>\n",
              "      <td>593</td>\n",
              "      <td>87</td>\n",
              "      <td>6.816092</td>\n",
              "      <td>nice hotel expensive parking got good deal sta...</td>\n",
              "      <td>[nice, hotel, expensive, parking, got, good, d...</td>\n",
              "      <td>1</td>\n",
              "    </tr>\n",
              "    <tr>\n",
              "      <th>1</th>\n",
              "      <td>ok nothing special charge diamond member hilto...</td>\n",
              "      <td>2</td>\n",
              "      <td>0</td>\n",
              "      <td>1689</td>\n",
              "      <td>250</td>\n",
              "      <td>6.756000</td>\n",
              "      <td>ok nothing special charge diamond member hilto...</td>\n",
              "      <td>[ok, nothing, special, charge, diamond, member...</td>\n",
              "      <td>0</td>\n",
              "    </tr>\n",
              "    <tr>\n",
              "      <th>2</th>\n",
              "      <td>nice rooms not 4* experience hotel monaco seat...</td>\n",
              "      <td>3</td>\n",
              "      <td>0</td>\n",
              "      <td>1427</td>\n",
              "      <td>217</td>\n",
              "      <td>6.576037</td>\n",
              "      <td>nice rooms 4 experience hotel monaco seattle g...</td>\n",
              "      <td>[nice, rooms, 4, experience, hotel, monaco, se...</td>\n",
              "      <td>0</td>\n",
              "    </tr>\n",
              "    <tr>\n",
              "      <th>3</th>\n",
              "      <td>unique, great stay, wonderful time hotel monac...</td>\n",
              "      <td>5</td>\n",
              "      <td>1</td>\n",
              "      <td>600</td>\n",
              "      <td>89</td>\n",
              "      <td>6.741573</td>\n",
              "      <td>unique great stay wonderful time hotel monaco ...</td>\n",
              "      <td>[unique, great, stay, wonderful, time, hotel, ...</td>\n",
              "      <td>1</td>\n",
              "    </tr>\n",
              "    <tr>\n",
              "      <th>4</th>\n",
              "      <td>great stay great stay, went seahawk game aweso...</td>\n",
              "      <td>5</td>\n",
              "      <td>1</td>\n",
              "      <td>1281</td>\n",
              "      <td>191</td>\n",
              "      <td>6.706806</td>\n",
              "      <td>great stay great stay went seahawk game awesom...</td>\n",
              "      <td>[great, stay, great, stay, went, seahawk, game...</td>\n",
              "      <td>1</td>\n",
              "    </tr>\n",
              "  </tbody>\n",
              "</table>\n",
              "</div>\n",
              "      <button class=\"colab-df-convert\" onclick=\"convertToInteractive('df-20f5db3f-6325-4138-82c8-d27c6118c736')\"\n",
              "              title=\"Convert this dataframe to an interactive table.\"\n",
              "              style=\"display:none;\">\n",
              "        \n",
              "  <svg xmlns=\"http://www.w3.org/2000/svg\" height=\"24px\"viewBox=\"0 0 24 24\"\n",
              "       width=\"24px\">\n",
              "    <path d=\"M0 0h24v24H0V0z\" fill=\"none\"/>\n",
              "    <path d=\"M18.56 5.44l.94 2.06.94-2.06 2.06-.94-2.06-.94-.94-2.06-.94 2.06-2.06.94zm-11 1L8.5 8.5l.94-2.06 2.06-.94-2.06-.94L8.5 2.5l-.94 2.06-2.06.94zm10 10l.94 2.06.94-2.06 2.06-.94-2.06-.94-.94-2.06-.94 2.06-2.06.94z\"/><path d=\"M17.41 7.96l-1.37-1.37c-.4-.4-.92-.59-1.43-.59-.52 0-1.04.2-1.43.59L10.3 9.45l-7.72 7.72c-.78.78-.78 2.05 0 2.83L4 21.41c.39.39.9.59 1.41.59.51 0 1.02-.2 1.41-.59l7.78-7.78 2.81-2.81c.8-.78.8-2.07 0-2.86zM5.41 20L4 18.59l7.72-7.72 1.47 1.35L5.41 20z\"/>\n",
              "  </svg>\n",
              "      </button>\n",
              "      \n",
              "  <style>\n",
              "    .colab-df-container {\n",
              "      display:flex;\n",
              "      flex-wrap:wrap;\n",
              "      gap: 12px;\n",
              "    }\n",
              "\n",
              "    .colab-df-convert {\n",
              "      background-color: #E8F0FE;\n",
              "      border: none;\n",
              "      border-radius: 50%;\n",
              "      cursor: pointer;\n",
              "      display: none;\n",
              "      fill: #1967D2;\n",
              "      height: 32px;\n",
              "      padding: 0 0 0 0;\n",
              "      width: 32px;\n",
              "    }\n",
              "\n",
              "    .colab-df-convert:hover {\n",
              "      background-color: #E2EBFA;\n",
              "      box-shadow: 0px 1px 2px rgba(60, 64, 67, 0.3), 0px 1px 3px 1px rgba(60, 64, 67, 0.15);\n",
              "      fill: #174EA6;\n",
              "    }\n",
              "\n",
              "    [theme=dark] .colab-df-convert {\n",
              "      background-color: #3B4455;\n",
              "      fill: #D2E3FC;\n",
              "    }\n",
              "\n",
              "    [theme=dark] .colab-df-convert:hover {\n",
              "      background-color: #434B5C;\n",
              "      box-shadow: 0px 1px 3px 1px rgba(0, 0, 0, 0.15);\n",
              "      filter: drop-shadow(0px 1px 2px rgba(0, 0, 0, 0.3));\n",
              "      fill: #FFFFFF;\n",
              "    }\n",
              "  </style>\n",
              "\n",
              "      <script>\n",
              "        const buttonEl =\n",
              "          document.querySelector('#df-20f5db3f-6325-4138-82c8-d27c6118c736 button.colab-df-convert');\n",
              "        buttonEl.style.display =\n",
              "          google.colab.kernel.accessAllowed ? 'block' : 'none';\n",
              "\n",
              "        async function convertToInteractive(key) {\n",
              "          const element = document.querySelector('#df-20f5db3f-6325-4138-82c8-d27c6118c736');\n",
              "          const dataTable =\n",
              "            await google.colab.kernel.invokeFunction('convertToInteractive',\n",
              "                                                     [key], {});\n",
              "          if (!dataTable) return;\n",
              "\n",
              "          const docLinkHtml = 'Like what you see? Visit the ' +\n",
              "            '<a target=\"_blank\" href=https://colab.research.google.com/notebooks/data_table.ipynb>data table notebook</a>'\n",
              "            + ' to learn more about interactive tables.';\n",
              "          element.innerHTML = '';\n",
              "          dataTable['output_type'] = 'display_data';\n",
              "          await google.colab.output.renderOutput(dataTable, element);\n",
              "          const docLink = document.createElement('div');\n",
              "          docLink.innerHTML = docLinkHtml;\n",
              "          element.appendChild(docLink);\n",
              "        }\n",
              "      </script>\n",
              "    </div>\n",
              "  </div>\n",
              "  "
            ]
          },
          "metadata": {},
          "execution_count": 214
        }
      ]
    },
    {
      "cell_type": "markdown",
      "source": [
        "**Detection d'anomalies**"
      ],
      "metadata": {
        "id": "jaCycFFp6gRF"
      }
    },
    {
      "cell_type": "code",
      "source": [
        "from sklearn.metrics import classification_report,accuracy_score\n",
        "from sklearn.ensemble import IsolationForest\n",
        "from sklearn.neighbors import LocalOutlierFactor\n",
        "from sklearn.svm import OneClassSVM\n",
        "from pylab import rcParams"
      ],
      "metadata": {
        "id": "RrNYdq776kOX"
      },
      "execution_count": null,
      "outputs": []
    },
    {
      "cell_type": "code",
      "source": [
        "##Define the outlier detection methods\n",
        "\n",
        "classifiers = {\n",
        "    \"Isolation Forest\":IsolationForest(n_estimators=100, \n",
        "                                       contamination=0.2, random_state=5, verbose=0),\n",
        "    \"Local Outlier Factor\":LocalOutlierFactor(n_neighbors=20, algorithm='auto', \n",
        "                                              leaf_size=30, metric='minkowski',\n",
        "                                              p=2, metric_params=None, contamination=0.2),\n",
        "    \"Support Vector Machine\":OneClassSVM(kernel='rbf', degree=3, gamma=0.1,nu=0.05, \n",
        "                                         max_iter=-1)\n",
        "   \n",
        "}"
      ],
      "metadata": {
        "id": "F3sXjl3N5f3l"
      },
      "execution_count": null,
      "outputs": []
    },
    {
      "cell_type": "markdown",
      "source": [
        "**Choix du meilleur modèle de classification**"
      ],
      "metadata": {
        "id": "1U5BiXcCBio-"
      }
    },
    {
      "cell_type": "code",
      "source": [
        "RL = Pipeline([\n",
        "    ('vectorizer', TfidfVectorizer(stop_words=None)),\n",
        "    ('classifier', model)\n",
        "])"
      ],
      "metadata": {
        "id": "eF1YGMktBhmz"
      },
      "execution_count": null,
      "outputs": []
    },
    {
      "cell_type": "code",
      "source": [
        "RL.fit(df.Review, y_sent)"
      ],
      "metadata": {
        "id": "qahsS64J-wKs"
      },
      "execution_count": null,
      "outputs": []
    },
    {
      "cell_type": "code",
      "source": [
        "def multiple_non_supervised_models(X):\n",
        "  for i, (clf_name,clf) in enumerate(classifiers.items()):\n",
        "      #Fit the data and tag outliers\n",
        "      if clf_name == \"Local Outlier Factor\":\n",
        "          y_pred = clf.fit_predict(X)\n",
        "          scores_prediction = clf.negative_outlier_factor_\n",
        "      elif clf_name == \"Support Vector Machine\":\n",
        "          clf.fit(X)\n",
        "          y_pred = clf.predict(X)\n",
        "      else:    \n",
        "          clf.fit(X)\n",
        "          scores_prediction = clf.decision_function(X)\n",
        "          y_pred = clf.predict(X)\n",
        "      #Reshape the prediction values to 0 for Valid transactions , 1 for Fraud transactions\n",
        "      y_pred[y_pred == 1] = 1\n",
        "      y_pred[y_pred == -1] = 0\n",
        "      n_errors = (y_pred != y_sent).sum()\n",
        "      # Run Classification Metrics\n",
        "      print(\"{}: {}\".format(clf_name,n_errors))\n",
        "      print(\"Accuracy Score :\")\n",
        "      print(accuracy_score(y_sent,y_pred))\n",
        "      print(\"Classification Report :\")\n",
        "      print(classification_report(y_sent,y_pred))\n",
        "     "
      ],
      "metadata": {
        "id": "kIGqA4sZ6njx"
      },
      "execution_count": null,
      "outputs": []
    },
    {
      "cell_type": "code",
      "source": [
        "multiple_non_supervised_models()"
      ],
      "metadata": {
        "colab": {
          "base_uri": "https://localhost:8080/"
        },
        "id": "7TvmMBhD60Dw",
        "outputId": "95d70112-e0e4-4bc3-a1b0-6482a4c5b1fe"
      },
      "execution_count": null,
      "outputs": [
        {
          "output_type": "stream",
          "name": "stdout",
          "text": [
            "Isolation Forest: 7402\n",
            "Accuracy Score :\n",
            "0.6387682397149969\n",
            "Classification Report :\n",
            "              precision    recall  f1-score   support\n",
            "\n",
            "           0       0.26      0.19      0.22      5398\n",
            "           1       0.73      0.80      0.76     15093\n",
            "\n",
            "    accuracy                           0.64     20491\n",
            "   macro avg       0.50      0.50      0.49     20491\n",
            "weighted avg       0.61      0.64      0.62     20491\n",
            "\n",
            "Local Outlier Factor: 6656\n",
            "Accuracy Score :\n",
            "0.6751744668391001\n",
            "Classification Report :\n",
            "              precision    recall  f1-score   support\n",
            "\n",
            "           0       0.35      0.26      0.30      5398\n",
            "           1       0.76      0.82      0.79     15093\n",
            "\n",
            "    accuracy                           0.68     20491\n",
            "   macro avg       0.55      0.54      0.54     20491\n",
            "weighted avg       0.65      0.68      0.66     20491\n",
            "\n",
            "Support Vector Machine: 5727\n",
            "Accuracy Score :\n",
            "0.7205114440486067\n",
            "Classification Report :\n",
            "              precision    recall  f1-score   support\n",
            "\n",
            "           0       0.34      0.06      0.11      5398\n",
            "           1       0.74      0.96      0.83     15093\n",
            "\n",
            "    accuracy                           0.72     20491\n",
            "   macro avg       0.54      0.51      0.47     20491\n",
            "weighted avg       0.63      0.72      0.64     20491\n",
            "\n"
          ]
        }
      ]
    },
    {
      "cell_type": "code",
      "source": [],
      "metadata": {
        "id": "vtpR7C5ZBA-W"
      },
      "execution_count": null,
      "outputs": []
    }
  ]
}